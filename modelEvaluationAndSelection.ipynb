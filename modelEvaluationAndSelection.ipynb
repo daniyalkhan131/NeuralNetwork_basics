{
  "nbformat": 4,
  "nbformat_minor": 0,
  "metadata": {
    "colab": {
      "provenance": []
    },
    "kernelspec": {
      "name": "python3",
      "display_name": "Python 3"
    },
    "language_info": {
      "name": "python"
    }
  },
  "cells": [
    {
      "cell_type": "code",
      "execution_count": 1,
      "metadata": {
        "id": "fEDdClCB1my4"
      },
      "outputs": [],
      "source": [
        "import numpy as np\n",
        "from sklearn.linear_model import LinearRegression\n",
        "from sklearn.preprocessing import StandardScaler, PolynomialFeatures\n",
        "from sklearn.model_selection import train_test_split\n",
        "from sklearn.metrics import mean_squared_error\n",
        "import matplotlib.pyplot as plt\n",
        "\n",
        "from tensorflow.keras.models import Sequential\n",
        "from tensorflow.keras.layers import Dense\n",
        "\n",
        "from sklearn.datasets import make_regression,make_blobs\n",
        "import tensorflow as tf\n",
        "\n",
        "# reduce display precision on numpy arrays\n",
        "np.set_printoptions(precision=2)"
      ]
    },
    {
      "cell_type": "code",
      "source": [
        "x,y=make_regression(n_samples=100, n_features=1, noise=20.0, random_state=0)\n",
        "x=x**3\n",
        "# Convert 1-D arrays into 2-D because the commands later will require it\n",
        "#x = np.expand_dims(x, axis=1)\n",
        "y = np.expand_dims(y, axis=1)\n",
        "\n",
        "print(f\"the shape of the inputs x is: {x.shape}\")\n",
        "print(f\"the shape of the targets y is: {y.shape}\")\n",
        "\n",
        "plt.plot(x,y,'b.')"
      ],
      "metadata": {
        "colab": {
          "base_uri": "https://localhost:8080/",
          "height": 482
        },
        "id": "64GV46g62asW",
        "outputId": "ce529c32-cd03-4318-a403-3355a2c01f9c"
      },
      "execution_count": 2,
      "outputs": [
        {
          "output_type": "stream",
          "name": "stdout",
          "text": [
            "the shape of the inputs x is: (100, 1)\n",
            "the shape of the targets y is: (100, 1)\n"
          ]
        },
        {
          "output_type": "execute_result",
          "data": {
            "text/plain": [
              "[<matplotlib.lines.Line2D at 0x7fd30e788490>]"
            ]
          },
          "metadata": {},
          "execution_count": 2
        },
        {
          "output_type": "display_data",
          "data": {
            "text/plain": [
              "<Figure size 640x480 with 1 Axes>"
            ],
            "image/png": "[encoded data removed]"
          },
          "metadata": {}
        }
      ]
    },
    {
      "cell_type": "code",
      "source": [
        "\"\"\"Split the dataset into training, cross validation, and test sets¶\n",
        "In previous labs, you might have used the entire dataset to train your models. In practice however, it is best to hold out a portion of your data to measure how well\n",
        "your model generalizes to new examples. This will let you know if the model has overfit to your training set.\n",
        "\n",
        "As mentioned in the lecture, it is common to split your data into three parts:\n",
        "\n",
        "training set - used to train the model\n",
        "cross validation set (also called validation, development, or dev set) - used to evaluate the different model configurations you are choosing from. For example,\n",
        "you can use this to make a decision on what polynomial features to add to your dataset.\n",
        "test set - used to give a fair estimate of your chosen model's performance against new examples. This should not be used to make decisions\n",
        " while you are still developing the models.\n",
        "Scikit-learn provides a train_test_split function to split your data into the parts mentioned above. In the code cell below, you will split the entire dataset\n",
        "into 60% training, 20% cross validation, and 20% test.\"\"\""
      ],
      "metadata": {
        "colab": {
          "base_uri": "https://localhost:8080/",
          "height": 123
        },
        "id": "QO-12Pdi3W3m",
        "outputId": "dfdc8732-aa84-4ab0-ce59-80a1856f7757"
      },
      "execution_count": 3,
      "outputs": [
        {
          "output_type": "execute_result",
          "data": {
            "text/plain": [
              "\"Split the dataset into training, cross validation, and test sets¶\\nIn previous labs, you might have used the entire dataset to train your models. In practice however, it is best to hold out a portion of your data to measure how well \\nyour model generalizes to new examples. This will let you know if the model has overfit to your training set.\\n\\nAs mentioned in the lecture, it is common to split your data into three parts:\\n\\ntraining set - used to train the model\\ncross validation set (also called validation, development, or dev set) - used to evaluate the different model configurations you are choosing from. For example, \\nyou can use this to make a decision on what polynomial features to add to your dataset.\\ntest set - used to give a fair estimate of your chosen model's performance against new examples. This should not be used to make decisions\\n while you are still developing the models.\\nScikit-learn provides a train_test_split function to split your data into the parts mentioned above. In the code cell below, you will split the entire dataset \\ninto 60% training, 20% cross validation, and 20% test.\""
            ],
            "application/vnd.google.colaboratory.intrinsic+json": {
              "type": "string"
            }
          },
          "metadata": {},
          "execution_count": 3
        }
      ]
    },
    {
      "cell_type": "code",
      "source": [
        "# 60% of the dataset as the training set.remaining 40% in temporary variables: x_ and y_.\n",
        "x_train, x_, y_train, y_ = train_test_split(x, y, test_size=0.40, random_state=1)\n",
        "\n",
        "# Split the 40% subset above into two: one half for cross validation and the other for the test set\n",
        "x_cv, x_test, y_cv, y_test = train_test_split(x_, y_, test_size=0.50, random_state=1)\n",
        "\n",
        "# Delete temporary variables\n",
        "del x_, y_\n",
        "\n",
        "print(f\"the shape of the training set (input) is: {x_train.shape}\")\n",
        "print(f\"the shape of the training set (target) is: {y_train.shape}\\n\")\n",
        "print(f\"the shape of the cross validation set (input) is: {x_cv.shape}\")\n",
        "print(f\"the shape of the cross validation set (target) is: {y_cv.shape}\\n\")\n",
        "print(f\"the shape of the test set (input) is: {x_test.shape}\")\n",
        "print(f\"the shape of the test set (target) is: {y_test.shape}\")"
      ],
      "metadata": {
        "colab": {
          "base_uri": "https://localhost:8080/"
        },
        "id": "P0QEZ39j3kcY",
        "outputId": "1fd443b6-bd9d-4ea7-ca26-1368ce20da5f"
      },
      "execution_count": 4,
      "outputs": [
        {
          "output_type": "stream",
          "name": "stdout",
          "text": [
            "the shape of the training set (input) is: (60, 1)\n",
            "the shape of the training set (target) is: (60, 1)\n",
            "\n",
            "the shape of the cross validation set (input) is: (20, 1)\n",
            "the shape of the cross validation set (target) is: (20, 1)\n",
            "\n",
            "the shape of the test set (input) is: (20, 1)\n",
            "the shape of the test set (target) is: (20, 1)\n"
          ]
        }
      ]
    },
    {
      "cell_type": "code",
      "source": [
        "\"\"\"Feature scaling\n",
        "In the previous course of this specialization, you saw that it is usually a good idea to perform feature scaling to help your model converge faster. This is especially true if your input features have widely different ranges of values.\n",
        "Later in this lab, you will be adding polynomial terms so your input features will indeed have different ranges. For example,  𝑥\n",
        "  runs from around 1600 to 3600, while  𝑥2\n",
        "  will run from 2.56 million to 12.96 million.\n",
        "\n",
        "You will only use  𝑥\n",
        "  for this first model but it's good to practice feature scaling now so you can apply it later. For that, you will use the StandardScaler class from scikit-learn.\n",
        "   This computes the z-score of your inputs. As a refresher, the z-score is given by the equation:\n",
        "\n",
        "𝑧=𝑥−𝜇𝜎\n",
        "\n",
        "where  𝜇\n",
        "  is the mean of the feature values and  𝜎\n",
        "  is the standard deviation. The code below shows how to prepare the training set using the said class. You can plot the results again to inspect if it still\n",
        "  follows the same pattern as before. The new graph should have a reduced range of values for x.\"\"\""
      ],
      "metadata": {
        "colab": {
          "base_uri": "https://localhost:8080/",
          "height": 123
        },
        "id": "98oI6gCq3lRt",
        "outputId": "6f8e5830-a1ce-4c2f-977b-094eaea0163a"
      },
      "execution_count": 5,
      "outputs": [
        {
          "output_type": "execute_result",
          "data": {
            "text/plain": [
              "\"Feature scaling\\nIn the previous course of this specialization, you saw that it is usually a good idea to perform feature scaling to help your model converge faster. This is especially true if your input features have widely different ranges of values. \\nLater in this lab, you will be adding polynomial terms so your input features will indeed have different ranges. For example,  𝑥\\n  runs from around 1600 to 3600, while  𝑥2\\n  will run from 2.56 million to 12.96 million.\\n\\nYou will only use  𝑥\\n  for this first model but it's good to practice feature scaling now so you can apply it later. For that, you will use the StandardScaler class from scikit-learn.\\n   This computes the z-score of your inputs. As a refresher, the z-score is given by the equation:\\n\\n𝑧=𝑥−𝜇𝜎\\n \\nwhere  𝜇\\n  is the mean of the feature values and  𝜎\\n  is the standard deviation. The code below shows how to prepare the training set using the said class. You can plot the results again to inspect if it still \\n  follows the same pattern as before. The new graph should have a reduced range of values for x.\""
            ],
            "application/vnd.google.colaboratory.intrinsic+json": {
              "type": "string"
            }
          },
          "metadata": {},
          "execution_count": 5
        }
      ]
    },
    {
      "cell_type": "code",
      "source": [
        "# Initialize the class\n",
        "scaler_linear = StandardScaler()\n",
        "\n",
        "# Compute the mean and standard deviation of the training set then transform it\n",
        "#scaler_linear.fit(x_train)  dont use this as using fit_tranform, if used transform then do first fit then tranform\n",
        "X_train_scaled = scaler_linear.fit_transform(x_train)\n",
        "\n",
        "#scaler_linear.fit(y_train)\n",
        "#y_train_scaled = scaler_linear.fit_transform(y_train)  # idont understand why are we not scaling y\n",
        "#y_cv_scaled = scaler_linear.transform(y_cv)\n",
        "#y_test_scaled = scaler_linear.transform(y_test)\n",
        "\n",
        "print(f\"mean of the training set: {scaler_linear.mean_.squeeze():.2f}\")\n",
        "print(f\"standard deviation of the training set: {scaler_linear.scale_.squeeze():.2f}\")\n",
        "\n",
        "# Plot the results\n",
        "plt.plot(X_train_scaled,y_train,'b.')"
      ],
      "metadata": {
        "colab": {
          "base_uri": "https://localhost:8080/",
          "height": 482
        },
        "id": "Vmf91Yja3-Yf",
        "outputId": "385335af-4b7a-433c-8e80-59b4d16653c4"
      },
      "execution_count": 6,
      "outputs": [
        {
          "output_type": "stream",
          "name": "stdout",
          "text": [
            "mean of the training set: -0.00\n",
            "standard deviation of the training set: 3.77\n"
          ]
        },
        {
          "output_type": "execute_result",
          "data": {
            "text/plain": [
              "[<matplotlib.lines.Line2D at 0x7fd30e663b50>]"
            ]
          },
          "metadata": {},
          "execution_count": 6
        },
        {
          "output_type": "display_data",
          "data": {
            "text/plain": [
              "<Figure size 640x480 with 1 Axes>"
            ],
            "image/png": "[encoded data removed]"
          },
          "metadata": {}
        }
      ]
    },
    {
      "cell_type": "code",
      "source": [
        "\"\"\"Train the model\n",
        "Next, you will create and train a regression model.\n",
        "For this lab, you will use the LinearRegression class but take note that there are other\n",
        "https://scikit-learn.org/stable/modules/classes.html#classical-linear-regressors\n",
        " which you can also use.\"\"\""
      ],
      "metadata": {
        "colab": {
          "base_uri": "https://localhost:8080/",
          "height": 53
        },
        "id": "Tuc6C04M9I-E",
        "outputId": "a460a146-564e-46f5-e2f4-d28530fa850d"
      },
      "execution_count": 7,
      "outputs": [
        {
          "output_type": "execute_result",
          "data": {
            "text/plain": [
              "'Train the model\\nNext, you will create and train a regression model. \\nFor this lab, you will use the LinearRegression class but take note that there are other \\nhttps://scikit-learn.org/stable/modules/classes.html#classical-linear-regressors\\n which you can also use.'"
            ],
            "application/vnd.google.colaboratory.intrinsic+json": {
              "type": "string"
            }
          },
          "metadata": {},
          "execution_count": 7
        }
      ]
    },
    {
      "cell_type": "code",
      "source": [
        "# Initialize the class\n",
        "linear_model = LinearRegression()\n",
        "\n",
        "# Train the model\n",
        "linear_model.fit(X_train_scaled, y_train )"
      ],
      "metadata": {
        "colab": {
          "base_uri": "https://localhost:8080/",
          "height": 74
        },
        "id": "caxS_A3H_OZk",
        "outputId": "c87cee7a-ef42-4fae-bb8e-f38c1d4cbb58"
      },
      "execution_count": 8,
      "outputs": [
        {
          "output_type": "execute_result",
          "data": {
            "text/plain": [
              "LinearRegression()"
            ],
            "text/html": [
              "<style>#sk-container-id-1 {color: black;background-color: white;}#sk-container-id-1 pre{padding: 0;}#sk-container-id-1 div.sk-toggleable {background-color: white;}#sk-container-id-1 label.sk-toggleable__label {cursor: pointer;display: block;width: 100%;margin-bottom: 0;padding: 0.3em;box-sizing: border-box;text-align: center;}#sk-container-id-1 label.sk-toggleable__label-arrow:before {content: \"▸\";float: left;margin-right: 0.25em;color: #696969;}#sk-container-id-1 label.sk-toggleable__label-arrow:hover:before {color: black;}#sk-container-id-1 div.sk-estimator:hover label.sk-toggleable__label-arrow:before {color: black;}#sk-container-id-1 div.sk-toggleable__content {max-height: 0;max-width: 0;overflow: hidden;text-align: left;background-color: #f0f8ff;}#sk-container-id-1 div.sk-toggleable__content pre {margin: 0.2em;color: black;border-radius: 0.25em;background-color: #f0f8ff;}#sk-container-id-1 input.sk-toggleable__control:checked~div.sk-toggleable__content {max-height: 200px;max-width: 100%;overflow: auto;}#sk-container-id-1 input.sk-toggleable__control:checked~label.sk-toggleable__label-arrow:before {content: \"▾\";}#sk-container-id-1 div.sk-estimator input.sk-toggleable__control:checked~label.sk-toggleable__label {background-color: #d4ebff;}#sk-container-id-1 div.sk-label input.sk-toggleable__control:checked~label.sk-toggleable__label {background-color: #d4ebff;}#sk-container-id-1 input.sk-hidden--visually {border: 0;clip: rect(1px 1px 1px 1px);clip: rect(1px, 1px, 1px, 1px);height: 1px;margin: -1px;overflow: hidden;padding: 0;position: absolute;width: 1px;}#sk-container-id-1 div.sk-estimator {font-family: monospace;background-color: #f0f8ff;border: 1px dotted black;border-radius: 0.25em;box-sizing: border-box;margin-bottom: 0.5em;}#sk-container-id-1 div.sk-estimator:hover {background-color: #d4ebff;}#sk-container-id-1 div.sk-parallel-item::after {content: \"\";width: 100%;border-bottom: 1px solid gray;flex-grow: 1;}#sk-container-id-1 div.sk-label:hover label.sk-toggleable__label {background-color: #d4ebff;}#sk-container-id-1 div.sk-serial::before {content: \"\";position: absolute;border-left: 1px solid gray;box-sizing: border-box;top: 0;bottom: 0;left: 50%;z-index: 0;}#sk-container-id-1 div.sk-serial {display: flex;flex-direction: column;align-items: center;background-color: white;padding-right: 0.2em;padding-left: 0.2em;position: relative;}#sk-container-id-1 div.sk-item {position: relative;z-index: 1;}#sk-container-id-1 div.sk-parallel {display: flex;align-items: stretch;justify-content: center;background-color: white;position: relative;}#sk-container-id-1 div.sk-item::before, #sk-container-id-1 div.sk-parallel-item::before {content: \"\";position: absolute;border-left: 1px solid gray;box-sizing: border-box;top: 0;bottom: 0;left: 50%;z-index: -1;}#sk-container-id-1 div.sk-parallel-item {display: flex;flex-direction: column;z-index: 1;position: relative;background-color: white;}#sk-container-id-1 div.sk-parallel-item:first-child::after {align-self: flex-end;width: 50%;}#sk-container-id-1 div.sk-parallel-item:last-child::after {align-self: flex-start;width: 50%;}#sk-container-id-1 div.sk-parallel-item:only-child::after {width: 0;}#sk-container-id-1 div.sk-dashed-wrapped {border: 1px dashed gray;margin: 0 0.4em 0.5em 0.4em;box-sizing: border-box;padding-bottom: 0.4em;background-color: white;}#sk-container-id-1 div.sk-label label {font-family: monospace;font-weight: bold;display: inline-block;line-height: 1.2em;}#sk-container-id-1 div.sk-label-container {text-align: center;}#sk-container-id-1 div.sk-container {/* jupyter's `normalize.less` sets `[hidden] { display: none; }` but bootstrap.min.css set `[hidden] { display: none !important; }` so we also need the `!important` here to be able to override the default hidden behavior on the sphinx rendered scikit-learn.org. See: https://github.com/scikit-learn/scikit-learn/issues/21755 */display: inline-block !important;position: relative;}#sk-container-id-1 div.sk-text-repr-fallback {display: none;}</style><div id=\"sk-container-id-1\" class=\"sk-top-container\"><div class=\"sk-text-repr-fallback\"><pre>LinearRegression()</pre><b>In a Jupyter environment, please rerun this cell to show the HTML representation or trust the notebook. <br />On GitHub, the HTML representation is unable to render, please try loading this page with nbviewer.org.</b></div><div class=\"sk-container\" hidden><div class=\"sk-item\"><div class=\"sk-estimator sk-toggleable\"><input class=\"sk-toggleable__control sk-hidden--visually\" id=\"sk-estimator-id-1\" type=\"checkbox\" checked><label for=\"sk-estimator-id-1\" class=\"sk-toggleable__label sk-toggleable__label-arrow\">LinearRegression</label><div class=\"sk-toggleable__content\"><pre>LinearRegression()</pre></div></div></div></div></div>"
            ]
          },
          "metadata": {},
          "execution_count": 8
        }
      ]
    },
    {
      "cell_type": "code",
      "source": [
        "\"\"\"Evaluate the Model\n",
        "To evaluate the performance of your model, you will measure the error for the training and cross validation sets. For the training error,\n",
        "recall the equation for calculating the mean squared error (MSE):\n",
        "\n",
        "𝐽𝑡𝑟𝑎𝑖𝑛(𝑤⃗ ,𝑏)=12𝑚𝑡𝑟𝑎𝑖𝑛[∑𝑖=1𝑚𝑡𝑟𝑎𝑖𝑛(𝑓𝑤⃗ ,𝑏(𝑥⃗ (𝑖)𝑡𝑟𝑎𝑖𝑛)−𝑦(𝑖)𝑡𝑟𝑎𝑖𝑛)2]\n",
        "\n",
        "Scikit-learn also has a built-in mean_squared_error() function that you can use. Take note though that as per the documentation, scikit-learn's\n",
        " implementation only divides by m and not 2*m, where m is the number of examples. As mentioned in Course 1 of this Specialization (cost function lectures),\n",
        " dividing by 2m is a convention we will follow but the calculations should still work whether or not you include it. Thus, to match the equation above, you can\n",
        "  use the scikit-learn function then divide by 2 as shown below. We also included a for-loop implementation so you can check that it's equal.\n",
        "\n",
        "Another thing to take note: Since you trained the model on scaled values (i.e. using the z-score), you should also feed in the scaled training set instead of its raw values.\"\"\""
      ],
      "metadata": {
        "colab": {
          "base_uri": "https://localhost:8080/",
          "height": 123
        },
        "id": "5NDYZPeW_SgT",
        "outputId": "21c49487-1cd9-418c-9836-d7170b6db513"
      },
      "execution_count": 9,
      "outputs": [
        {
          "output_type": "execute_result",
          "data": {
            "text/plain": [
              "\"Evaluate the Model\\nTo evaluate the performance of your model, you will measure the error for the training and cross validation sets. For the training error, \\nrecall the equation for calculating the mean squared error (MSE):\\n\\n𝐽𝑡𝑟𝑎𝑖𝑛(𝑤⃗ ,𝑏)=12𝑚𝑡𝑟𝑎𝑖𝑛[∑𝑖=1𝑚𝑡𝑟𝑎𝑖𝑛(𝑓𝑤⃗ ,𝑏(𝑥⃗ (𝑖)𝑡𝑟𝑎𝑖𝑛)−𝑦(𝑖)𝑡𝑟𝑎𝑖𝑛)2]\\n \\nScikit-learn also has a built-in mean_squared_error() function that you can use. Take note though that as per the documentation, scikit-learn's\\n implementation only divides by m and not 2*m, where m is the number of examples. As mentioned in Course 1 of this Specialization (cost function lectures), \\n dividing by 2m is a convention we will follow but the calculations should still work whether or not you include it. Thus, to match the equation above, you can\\n  use the scikit-learn function then divide by 2 as shown below. We also included a for-loop implementation so you can check that it's equal.\\n\\nAnother thing to take note: Since you trained the model on scaled values (i.e. using the z-score), you should also feed in the scaled training set instead of its raw values.\""
            ],
            "application/vnd.google.colaboratory.intrinsic+json": {
              "type": "string"
            }
          },
          "metadata": {},
          "execution_count": 9
        }
      ]
    },
    {
      "cell_type": "code",
      "source": [
        "# the scaled training set use\n",
        "yhat = linear_model.predict(X_train_scaled)\n",
        "\n",
        "# Use scikit-learn function and divide by 2\n",
        "print(f\"training MSE (using sklearn function): {mean_squared_error(y_train, yhat) / 2}\")\n",
        "\n",
        "# for-loop implementation\n",
        "total_squared_error = 0\n",
        "\n",
        "for i in range(len(yhat)):\n",
        "    squared_error_i  = (yhat[i] - y_train[i])**2\n",
        "    total_squared_error += squared_error_i\n",
        "\n",
        "mse = total_squared_error / (2*len(yhat))\n",
        "\n",
        "print(f\"training MSE (for-loop implementation): {mse.squeeze()}\")"
      ],
      "metadata": {
        "colab": {
          "base_uri": "https://localhost:8080/"
        },
        "id": "rwTitnFf_saf",
        "outputId": "8c3205df-44cf-4bf9-f3c8-deb082d0a9da"
      },
      "execution_count": 10,
      "outputs": [
        {
          "output_type": "stream",
          "name": "stdout",
          "text": [
            "training MSE (using sklearn function): 538.5537651251735\n",
            "training MSE (for-loop implementation): 538.5537651251735\n"
          ]
        }
      ]
    },
    {
      "cell_type": "code",
      "source": [
        "\"\"\"You can then compute the MSE for the cross validation set with basically the same equation:\n",
        "\n",
        "𝐽𝑐𝑣(𝑤⃗ ,𝑏)=12𝑚𝑐𝑣[∑𝑖=1𝑚𝑐𝑣(𝑓𝑤⃗ ,𝑏(𝑥⃗ (𝑖)𝑐𝑣)−𝑦(𝑖)𝑐𝑣)2]\n",
        "\n",
        "As with the training set, you will also want to scale the cross validation set. An important thing to note when using the z-score is\n",
        " you have to use the mean and standard deviation of the training set when scaling the cross validation set. This is to ensure that your\n",
        "  input features are transformed as expected by the model. One way to gain intuition is with this scenario:\n",
        "\n",
        "Say that your training set has an input feature equal to 500 which is scaled down to 0.5 using the z-score.\n",
        "After training, your model is able to accurately map this scaled input x=0.5 to the target output y=300.\n",
        "Now let's say that you deployed this model and one of your users fed it a sample equal to 500.\n",
        "If you get this input sample's z-score using any other values of the mean and standard deviation, then it might not be scaled to 0.5 and\n",
        " your model will most likely make a wrong prediction (i.e. not equal to y=300).\n",
        "You will scale the cross validation set below by using the same StandardScaler you used earlier but only calling its transform() method instead of fit_transform().\"\"\""
      ],
      "metadata": {
        "colab": {
          "base_uri": "https://localhost:8080/",
          "height": 123
        },
        "id": "BNCAipuT_643",
        "outputId": "164e22dc-302c-4810-e559-946b0f2d419f"
      },
      "execution_count": 11,
      "outputs": [
        {
          "output_type": "execute_result",
          "data": {
            "text/plain": [
              "\"You can then compute the MSE for the cross validation set with basically the same equation:\\n\\n𝐽𝑐𝑣(𝑤⃗ ,𝑏)=12𝑚𝑐𝑣[∑𝑖=1𝑚𝑐𝑣(𝑓𝑤⃗ ,𝑏(𝑥⃗ (𝑖)𝑐𝑣)−𝑦(𝑖)𝑐𝑣)2]\\n \\nAs with the training set, you will also want to scale the cross validation set. An important thing to note when using the z-score is\\n you have to use the mean and standard deviation of the training set when scaling the cross validation set. This is to ensure that your\\n  input features are transformed as expected by the model. One way to gain intuition is with this scenario:\\n\\nSay that your training set has an input feature equal to 500 which is scaled down to 0.5 using the z-score.\\nAfter training, your model is able to accurately map this scaled input x=0.5 to the target output y=300.\\nNow let's say that you deployed this model and one of your users fed it a sample equal to 500.\\nIf you get this input sample's z-score using any other values of the mean and standard deviation, then it might not be scaled to 0.5 and\\n your model will most likely make a wrong prediction (i.e. not equal to y=300).\\nYou will scale the cross validation set below by using the same StandardScaler you used earlier but only calling its transform() method instead of fit_transform().\""
            ],
            "application/vnd.google.colaboratory.intrinsic+json": {
              "type": "string"
            }
          },
          "metadata": {},
          "execution_count": 11
        }
      ]
    },
    {
      "cell_type": "code",
      "source": [
        "# Scale the cross validation set using the mean and standard deviation of the training set\n",
        "X_cv_scaled = scaler_linear.transform(x_cv) # donot use fit_transform beacuse mean and std should be of x_train not of x_cv\n",
        "\n",
        "print(f\"Mean used to scale the CV set: {scaler_linear.mean_.squeeze():.2f}\")\n",
        "print(f\"Standard deviation used to scale the CV set: {scaler_linear.scale_.squeeze():.2f}\")\n",
        "\n",
        "# Feed the scaled cross validation set\n",
        "yhat = linear_model.predict(X_cv_scaled)\n",
        "\n",
        "# Use scikit-learn's utility function and divide by 2\n",
        "print(f\"Cross validation MSE: {mean_squared_error(y_cv, yhat) / 2}\")"
      ],
      "metadata": {
        "colab": {
          "base_uri": "https://localhost:8080/"
        },
        "id": "D6hDky8kAdsL",
        "outputId": "27d5b349-ad30-4465-b779-795fb0bbb046"
      },
      "execution_count": 12,
      "outputs": [
        {
          "output_type": "stream",
          "name": "stdout",
          "text": [
            "Mean used to scale the CV set: -0.00\n",
            "Standard deviation used to scale the CV set: 3.77\n",
            "Cross validation MSE: 278.8743938637911\n"
          ]
        }
      ]
    },
    {
      "cell_type": "code",
      "source": [
        "\"\"\"Adding Polynomial Features\n",
        "From the graphs earlier, you may have noticed that the target y rises more sharply at smaller values of x compared to higher ones.\n",
        " A straight line might not be the best choice because the target y seems to flatten out as x increases. Now that you have these values\n",
        " of the training and cross validation MSE from the linear model, you can try adding polynomial features to see if you can get a better performance.\n",
        " The code will mostly be the same but with a few extra preprocessing steps. Let's see that below.\"\"\""
      ],
      "metadata": {
        "colab": {
          "base_uri": "https://localhost:8080/",
          "height": 70
        },
        "id": "v3FNkptrA5VG",
        "outputId": "fba43ce5-d55b-4d6a-e7b8-1b98d7489a1d"
      },
      "execution_count": 13,
      "outputs": [
        {
          "output_type": "execute_result",
          "data": {
            "text/plain": [
              "\"Adding Polynomial Features\\nFrom the graphs earlier, you may have noticed that the target y rises more sharply at smaller values of x compared to higher ones.\\n A straight line might not be the best choice because the target y seems to flatten out as x increases. Now that you have these values \\n of the training and cross validation MSE from the linear model, you can try adding polynomial features to see if you can get a better performance. \\n The code will mostly be the same but with a few extra preprocessing steps. Let's see that below.\""
            ],
            "application/vnd.google.colaboratory.intrinsic+json": {
              "type": "string"
            }
          },
          "metadata": {},
          "execution_count": 13
        }
      ]
    },
    {
      "cell_type": "code",
      "source": [
        "# Instantiate the class to make polynomial features\n",
        "poly = PolynomialFeatures(degree=2, include_bias=False)\n",
        "\n",
        "# Compute the number of features and transform the training set\n",
        "X_train_mapped = poly.fit_transform(x_train)\n",
        "\n",
        "# Preview the first 5 elements of the new training set. Left column is `x` and right column is `x^2`\n",
        "# Note: The `e+<number>` in the output denotes how many places the decimal point should\n",
        "# be moved. For example, `3.24e+03` is equal to `3240`\n",
        "print(X_train_mapped[:5])"
      ],
      "metadata": {
        "colab": {
          "base_uri": "https://localhost:8080/"
        },
        "id": "LJBu-xmtCunU",
        "outputId": "1bdbed2a-cfe7-4d07-e673-031e20db1706"
      },
      "execution_count": 14,
      "outputs": [
        {
          "output_type": "stream",
          "name": "stdout",
          "text": [
            "[[-0.06  0.  ]\n",
            " [ 0.73  0.53]\n",
            " [ 0.86  0.74]\n",
            " [ 1.64  2.68]\n",
            " [-1.23  1.51]]\n"
          ]
        }
      ]
    },
    {
      "cell_type": "code",
      "source": [
        "# Instantiate the class\n",
        "scaler_poly = StandardScaler()\n",
        "\n",
        "# Compute the mean and standard deviation of the training set then transform it\n",
        "X_train_mapped_scaled = scaler_poly.fit_transform(X_train_mapped)\n",
        "\n",
        "# Preview the first 5 elements of the scaled training set.\n",
        "print(X_train_mapped_scaled[:5])"
      ],
      "metadata": {
        "colab": {
          "base_uri": "https://localhost:8080/"
        },
        "id": "Nu6rmguKDJqX",
        "outputId": "717a623a-a4db-4afb-cb52-0ae28adc4e55"
      },
      "execution_count": 15,
      "outputs": [
        {
          "output_type": "stream",
          "name": "stdout",
          "text": [
            "[[-0.01 -0.33]\n",
            " [ 0.19 -0.32]\n",
            " [ 0.23 -0.31]\n",
            " [ 0.43 -0.27]\n",
            " [-0.32 -0.3 ]]\n"
          ]
        }
      ]
    },
    {
      "cell_type": "code",
      "source": [
        "\"\"\"You can then proceed to train the model. After that, you will measure the model's performance against the cross validation set. Like before,\n",
        " you should make sure to perform the same transformations as you did in the training set. You will add the same number of polynomial features then scale the range of values.\"\"\""
      ],
      "metadata": {
        "colab": {
          "base_uri": "https://localhost:8080/",
          "height": 53
        },
        "id": "lQfIsW3oDaWO",
        "outputId": "70f20a47-6ac5-4302-a215-b9d991ee73e8"
      },
      "execution_count": 16,
      "outputs": [
        {
          "output_type": "execute_result",
          "data": {
            "text/plain": [
              "\"You can then proceed to train the model. After that, you will measure the model's performance against the cross validation set. Like before,\\n you should make sure to perform the same transformations as you did in the training set. You will add the same number of polynomial features then scale the range of values.\""
            ],
            "application/vnd.google.colaboratory.intrinsic+json": {
              "type": "string"
            }
          },
          "metadata": {},
          "execution_count": 16
        }
      ]
    },
    {
      "cell_type": "code",
      "source": [
        "# Initialize the class\n",
        "model = LinearRegression()\n",
        "\n",
        "# Train the model\n",
        "model.fit(X_train_mapped_scaled, y_train )\n",
        "\n",
        "# Compute the training MSE\n",
        "yhat = model.predict(X_train_mapped_scaled)\n",
        "print(f\"Training MSE: {mean_squared_error(y_train, yhat) / 2}\")\n",
        "\n",
        "# Add the polynomial features to the cross validation set\n",
        "X_cv_mapped = poly.transform(x_cv)\n",
        "\n",
        "# Scale the cross validation set using the mean and standard deviation of the training set\n",
        "X_cv_mapped_scaled = scaler_poly.transform(X_cv_mapped)\n",
        "\n",
        "# Compute the cross validation MSE\n",
        "yhat = model.predict(X_cv_mapped_scaled)\n",
        "print(f\"Cross validation MSE: {mean_squared_error(y_cv, yhat) / 2}\")"
      ],
      "metadata": {
        "colab": {
          "base_uri": "https://localhost:8080/"
        },
        "id": "MY2ixbHsDiOi",
        "outputId": "f2f8a63a-efa8-4433-829a-a07f29dad312"
      },
      "execution_count": 17,
      "outputs": [
        {
          "output_type": "stream",
          "name": "stdout",
          "text": [
            "Training MSE: 537.0759771343098\n",
            "Cross validation MSE: 276.6210597815964\n"
          ]
        }
      ]
    },
    {
      "cell_type": "code",
      "source": [
        "\"\"\"You'll notice that the MSEs are significantly better for both the training and cross validation set when you added the 2nd order polynomial.\n",
        " You may want to introduce more polynomial terms and see which one gives the best performance. As shown in class, you can have 10 different models like this:\n",
        "\n",
        "\n",
        "You can create a loop that contains all the steps in the previous code cells. Here is one implementation that adds polynomial features up to\n",
        " degree=10. We'll plot it at the end to make it easier to compare the results for each model.\"\"\""
      ],
      "metadata": {
        "colab": {
          "base_uri": "https://localhost:8080/",
          "height": 70
        },
        "id": "TE-MfdFeDz0Q",
        "outputId": "0ba69e56-e0d2-492f-db32-c7d2486da572"
      },
      "execution_count": 18,
      "outputs": [
        {
          "output_type": "execute_result",
          "data": {
            "text/plain": [
              "\"You'll notice that the MSEs are significantly better for both the training and cross validation set when you added the 2nd order polynomial.\\n You may want to introduce more polynomial terms and see which one gives the best performance. As shown in class, you can have 10 different models like this:\\n\\n\\nYou can create a loop that contains all the steps in the previous code cells. Here is one implementation that adds polynomial features up to\\n degree=10. We'll plot it at the end to make it easier to compare the results for each model.\""
            ],
            "application/vnd.google.colaboratory.intrinsic+json": {
              "type": "string"
            }
          },
          "metadata": {},
          "execution_count": 18
        }
      ]
    },
    {
      "cell_type": "code",
      "source": [
        "# Initialize lists containing the lists, models, and scalers\n",
        "train_mses = []\n",
        "cv_mses = []\n",
        "models = []\n",
        "scalers = []\n",
        "\n",
        "# Loop over 10 times. Each adding one more degree of polynomial higher than the last.\n",
        "for degree in range(1,11):\n",
        "\n",
        "    # Add polynomial features to the training set\n",
        "    poly = PolynomialFeatures(degree, include_bias=False)\n",
        "    X_train_mapped = poly.fit_transform(x_train)\n",
        "\n",
        "    # Scale the training set\n",
        "    scaler_poly = StandardScaler()\n",
        "    X_train_mapped_scaled = scaler_poly.fit_transform(X_train_mapped)\n",
        "    scalers.append(scaler_poly)\n",
        "\n",
        "    # Create and train the model\n",
        "    model = LinearRegression()\n",
        "    model.fit(X_train_mapped_scaled, y_train )\n",
        "    models.append(model)\n",
        "\n",
        "    # Compute the training MSE\n",
        "    yhat = model.predict(X_train_mapped_scaled)\n",
        "    train_mse = mean_squared_error(y_train, yhat) / 2\n",
        "    train_mses.append(train_mse)\n",
        "\n",
        "    # Add polynomial features and scale the cross validation set\n",
        "    poly = PolynomialFeatures(degree, include_bias=False)\n",
        "    X_cv_mapped = poly.fit_transform(x_cv)\n",
        "    X_cv_mapped_scaled = scaler_poly.transform(X_cv_mapped)\n",
        "\n",
        "    # Compute the cross validation MSE\n",
        "    yhat = model.predict(X_cv_mapped_scaled)\n",
        "    cv_mse = mean_squared_error(y_cv, yhat) / 2\n",
        "    cv_mses.append(cv_mse)\n",
        "\n",
        "# Plot the results\n",
        "degrees=np.array(range(1,11))\n",
        "# i did scaling to plot it the right way\n",
        "scale_mses=StandardScaler()\n",
        "train_mses_s=scale_mses.fit_transform(np.array(train_mses).reshape(-1,1))\n",
        "cv_mses_s=scale_mses.fit_transform(np.array(cv_mses).reshape(-1,1))\n",
        "plt.plot(degrees,train_mses_s,'b-')\n",
        "plt.plot(degrees,cv_mses_s,'g-')"
      ],
      "metadata": {
        "colab": {
          "base_uri": "https://localhost:8080/",
          "height": 447
        },
        "id": "DTH3K9TSFINb",
        "outputId": "9447debc-220b-45bf-84df-58fd075e54a1"
      },
      "execution_count": 19,
      "outputs": [
        {
          "output_type": "execute_result",
          "data": {
            "text/plain": [
              "[<matplotlib.lines.Line2D at 0x7fd30c52c970>]"
            ]
          },
          "metadata": {},
          "execution_count": 19
        },
        {
          "output_type": "display_data",
          "data": {
            "text/plain": [
              "<Figure size 640x480 with 1 Axes>"
            ],
            "image/png": "[encoded data removed]"
          },
          "metadata": {}
        }
      ]
    },
    {
      "cell_type": "code",
      "source": [
        "t=np.arange(1,5).reshape(-1,1)\n",
        "poly=PolynomialFeatures(4,include_bias=False)\n",
        "temp=poly.fit_transform(t)\n",
        "temp"
      ],
      "metadata": {
        "colab": {
          "base_uri": "https://localhost:8080/"
        },
        "id": "Ifd-sbPpGACX",
        "outputId": "2dcbd26c-4a9e-494e-df54-83cf8374439f"
      },
      "execution_count": 20,
      "outputs": [
        {
          "output_type": "execute_result",
          "data": {
            "text/plain": [
              "array([[  1.,   1.,   1.,   1.],\n",
              "       [  2.,   4.,   8.,  16.],\n",
              "       [  3.,   9.,  27.,  81.],\n",
              "       [  4.,  16.,  64., 256.]])"
            ]
          },
          "metadata": {},
          "execution_count": 20
        }
      ]
    },
    {
      "cell_type": "code",
      "source": [
        "\"\"\"Choosing the best model\n",
        "When selecting a model, you want to choose one that performs well both on the training and cross validation set.\n",
        "It implies that it is able to learn the patterns from your training set without overfitting. If you used the defaults in this lab,\n",
        "you will notice a sharp drop in cross validation error from the models with degree=1 to degree=2. This is followed by a relatively flat line up to degree=5.\n",
        "After that, however, the cross validation error is generally getting worse as you add more polynomial features. Given these, you can decide to use the model\n",
        "with the lowest cv_mse as the one best suited for your application.\"\"\""
      ],
      "metadata": {
        "colab": {
          "base_uri": "https://localhost:8080/",
          "height": 88
        },
        "id": "5yirciHqGPAf",
        "outputId": "4afc6a8f-5796-4d23-9812-c3409173fc1e"
      },
      "execution_count": 21,
      "outputs": [
        {
          "output_type": "execute_result",
          "data": {
            "text/plain": [
              "'Choosing the best model\\nWhen selecting a model, you want to choose one that performs well both on the training and cross validation set. \\nIt implies that it is able to learn the patterns from your training set without overfitting. If you used the defaults in this lab, \\nyou will notice a sharp drop in cross validation error from the models with degree=1 to degree=2. This is followed by a relatively flat line up to degree=5. \\nAfter that, however, the cross validation error is generally getting worse as you add more polynomial features. Given these, you can decide to use the model \\nwith the lowest cv_mse as the one best suited for your application.'"
            ],
            "application/vnd.google.colaboratory.intrinsic+json": {
              "type": "string"
            }
          },
          "metadata": {},
          "execution_count": 21
        }
      ]
    },
    {
      "cell_type": "code",
      "source": [
        "# Get the model with the lowest CV MSE (add 1 because list indices start at 0)\n",
        "# This also corresponds to the degree of the polynomial added\n",
        "degree = np.argmin(cv_mses_s) + 1\n",
        "print(f\"Lowest CV MSE is found in the model with degree={degree}\")"
      ],
      "metadata": {
        "colab": {
          "base_uri": "https://localhost:8080/"
        },
        "id": "eUDEMD-SGXKH",
        "outputId": "0f6798e6-8b11-4537-9fba-035a9b1c933c"
      },
      "execution_count": 22,
      "outputs": [
        {
          "output_type": "stream",
          "name": "stdout",
          "text": [
            "Lowest CV MSE is found in the model with degree=3\n"
          ]
        }
      ]
    },
    {
      "cell_type": "code",
      "source": [
        "#You can then publish the generalization error by computing the test set's MSE.\n",
        "#As usual, you should transform this data the same way you did with the training and cross validation sets\n",
        "\n",
        "# Add polynomial features to the test set\n",
        "poly = PolynomialFeatures(degree, include_bias=False)\n",
        "X_test_mapped = poly.fit_transform(x_test)\n",
        "\n",
        "# Scale the test set\n",
        "X_test_mapped_scaled = scalers[degree-1].transform(X_test_mapped)  #thats why we stored scaler in list because that scaler can be used only\n",
        "\n",
        "# Compute the test MSE\n",
        "yhat = models[degree-1].predict(X_test_mapped_scaled)  # and model also we stored\n",
        "test_mse = mean_squared_error(y_test, yhat) / 2\n",
        "\n",
        "print(f\"Training MSE: {train_mses[degree-1]:.2f}\")\n",
        "print(f\"Cross Validation MSE: {cv_mses[degree-1]:.2f}\")\n",
        "print(f\"Test MSE: {test_mse:.2f}\")"
      ],
      "metadata": {
        "colab": {
          "base_uri": "https://localhost:8080/"
        },
        "id": "r0Tun054Qekl",
        "outputId": "a2c19c6b-081b-4dbc-a7b9-d2cd678fb583"
      },
      "execution_count": 23,
      "outputs": [
        {
          "output_type": "stream",
          "name": "stdout",
          "text": [
            "Training MSE: 368.13\n",
            "Cross Validation MSE: 215.56\n",
            "Test MSE: 373.86\n"
          ]
        }
      ]
    },
    {
      "cell_type": "code",
      "source": [
        "# but train mse is larger than cv and test that means model is underfit (have high bias)\n",
        "# so i need to figure it out"
      ],
      "metadata": {
        "id": "bsmNWjOURIlG"
      },
      "execution_count": 24,
      "outputs": []
    },
    {
      "cell_type": "code",
      "source": [
        "#Neural Networks\n",
        "#The same model selection process can also be used when choosing between different neural network architectures."
      ],
      "metadata": {
        "id": "r6XXAeRgRa0f"
      },
      "execution_count": 25,
      "outputs": []
    },
    {
      "cell_type": "code",
      "source": [
        "\"\"\"Prepare the Data¶\n",
        "You will use the same training, cross validation, and test sets you generated in the previous section.\n",
        "From earlier lectures in this course, you may have known that neural networks can learn non-linear relationships so you can\n",
        "opt to skip adding polynomial features. The code is still included below in case you want to try later and see what effect\n",
        "it will have on your results. The default degree is set to 1 to indicate that it will just use x_train, x_cv, and x_test as\n",
        "is (i.e. without any additional polynomial features).\"\"\""
      ],
      "metadata": {
        "colab": {
          "base_uri": "https://localhost:8080/",
          "height": 88
        },
        "id": "FFZjljb8RlXE",
        "outputId": "ab594b6c-bebf-47ee-85d6-549c82279afd"
      },
      "execution_count": 26,
      "outputs": [
        {
          "output_type": "execute_result",
          "data": {
            "text/plain": [
              "'Prepare the Data¶\\nYou will use the same training, cross validation, and test sets you generated in the previous section. \\nFrom earlier lectures in this course, you may have known that neural networks can learn non-linear relationships so you can \\nopt to skip adding polynomial features. The code is still included below in case you want to try later and see what effect \\nit will have on your results. The default degree is set to 1 to indicate that it will just use x_train, x_cv, and x_test as \\nis (i.e. without any additional polynomial features).'"
            ],
            "application/vnd.google.colaboratory.intrinsic+json": {
              "type": "string"
            }
          },
          "metadata": {},
          "execution_count": 26
        }
      ]
    },
    {
      "cell_type": "code",
      "source": [
        "# Add polynomial features\n",
        "degree = 1\n",
        "poly = PolynomialFeatures(degree, include_bias=False)\n",
        "X_train_mapped = poly.fit_transform(x_train)\n",
        "X_cv_mapped = poly.transform(x_cv)\n",
        "X_test_mapped = poly.transform(x_test)"
      ],
      "metadata": {
        "id": "6niDD3V9SDUA"
      },
      "execution_count": 27,
      "outputs": []
    },
    {
      "cell_type": "code",
      "source": [
        "\"\"\"Next, you will scale the input features to help gradient descent converge faster. Again,\n",
        "notice that you are using the mean and standard deviation computed from the training set by just using transform() in the cross validation\n",
        "and test sets instead of fit_transform().\"\"\""
      ],
      "metadata": {
        "colab": {
          "base_uri": "https://localhost:8080/",
          "height": 53
        },
        "id": "nPJzqb8ASvkL",
        "outputId": "c3fd1995-f27b-438c-8105-fb090ac3b67b"
      },
      "execution_count": 28,
      "outputs": [
        {
          "output_type": "execute_result",
          "data": {
            "text/plain": [
              "'Next, you will scale the input features to help gradient descent converge faster. Again, \\nnotice that you are using the mean and standard deviation computed from the training set by just using transform() in the cross validation \\nand test sets instead of fit_transform().'"
            ],
            "application/vnd.google.colaboratory.intrinsic+json": {
              "type": "string"
            }
          },
          "metadata": {},
          "execution_count": 28
        }
      ]
    },
    {
      "cell_type": "code",
      "source": [
        "# Scale the features using the z-score\n",
        "scaler = StandardScaler()\n",
        "X_train_mapped_scaled = scaler.fit_transform(X_train_mapped)\n",
        "X_cv_mapped_scaled = scaler.transform(X_cv_mapped)\n",
        "X_test_mapped_scaled = scaler.transform(X_test_mapped)"
      ],
      "metadata": {
        "id": "otVF6v6GS1Zk"
      },
      "execution_count": 29,
      "outputs": []
    },
    {
      "cell_type": "code",
      "source": [
        "\"\"\"Build and train the models\n",
        "You will then create the neural network architectures shown earlier. The code is provided in the build_models() function in the utils.py\n",
        " file in case you want to inspect or modify it. You will use that in the loop below then proceed to train the models. For each model, you will\n",
        "  also record the training and cross validation errors.\"\"\""
      ],
      "metadata": {
        "colab": {
          "base_uri": "https://localhost:8080/",
          "height": 70
        },
        "id": "-BaiOOY0S5yv",
        "outputId": "10e91cea-85ae-4f3c-d202-033aa80f0e1e"
      },
      "execution_count": 30,
      "outputs": [
        {
          "output_type": "execute_result",
          "data": {
            "text/plain": [
              "'Build and train the models\\nYou will then create the neural network architectures shown earlier. The code is provided in the build_models() function in the utils.py\\n file in case you want to inspect or modify it. You will use that in the loop below then proceed to train the models. For each model, you will\\n  also record the training and cross validation errors.'"
            ],
            "application/vnd.google.colaboratory.intrinsic+json": {
              "type": "string"
            }
          },
          "metadata": {},
          "execution_count": 30
        }
      ]
    },
    {
      "cell_type": "code",
      "source": [
        "# Initialize lists that will contain the errors for each model\n",
        "nn_train_mses = []\n",
        "nn_cv_mses = []\n",
        "\n",
        "# Build the models\n",
        "model1 = Sequential(\n",
        "    [\n",
        "        tf.keras.Input(shape=(1,)),\n",
        "        Dense(25, activation='relu', name = 'layer1'),\n",
        "        Dense(15, activation='relu', name = 'layer2'),\n",
        "        Dense(1, activation='linear', name = 'layer3')\n",
        "     ]\n",
        ")\n",
        "model2 = Sequential(\n",
        "    [\n",
        "        tf.keras.Input(shape=(1,)),\n",
        "        Dense(20, activation='relu', name = 'layer1'),\n",
        "        Dense(12, activation='relu', name = 'layer2'),\n",
        "        Dense(12, activation='relu', name = 'layer3'),\n",
        "        Dense(20, activation='relu', name = 'layer4'),\n",
        "        Dense(1, activation='linear', name = 'layer5')\n",
        "     ]\n",
        ")\n",
        "model3 = Sequential(\n",
        "    [\n",
        "        tf.keras.Input(shape=(1,)),\n",
        "        Dense(32, activation='relu', name = 'layer1'),\n",
        "        Dense(16, activation='relu', name = 'layer2'),\n",
        "        Dense(8, activation='relu', name = 'layer3'),\n",
        "        Dense(4, activation='relu', name = 'layer4'),\n",
        "        Dense(12, activation='relu', name = 'layer5'),\n",
        "        Dense(1, activation='linear', name = 'layer6')\n",
        "     ]\n",
        ")\n",
        "\n",
        "\n",
        "nn_models = [model1,model2,model3]\n",
        "\n",
        "# Loop over the the models\n",
        "for model in nn_models:\n",
        "\n",
        "    # Setup the loss and optimizer\n",
        "    model.compile(\n",
        "    loss='mse',\n",
        "    optimizer=tf.keras.optimizers.Adam(learning_rate=0.1),\n",
        "    )\n",
        "\n",
        "    print(f\"Training {model.name}...\")\n",
        "\n",
        "    # Train the model\n",
        "    model.fit(\n",
        "        X_train_mapped_scaled, y_train,\n",
        "        epochs=300,\n",
        "        verbose=0 # don't know what it is\n",
        "    )\n",
        "\n",
        "    print(\"Done!\\n\")\n",
        "\n",
        "\n",
        "    # Record the training MSEs\n",
        "    yhat = model.predict(X_train_mapped_scaled)\n",
        "    train_mse = mean_squared_error(y_train, yhat) / 2\n",
        "    nn_train_mses.append(train_mse)\n",
        "\n",
        "    # Record the cross validation MSEs\n",
        "    yhat = model.predict(X_cv_mapped_scaled)\n",
        "    cv_mse = mean_squared_error(y_cv, yhat) / 2\n",
        "    nn_cv_mses.append(cv_mse)\n",
        "\n",
        "\n",
        "# print results\n",
        "print(\"RESULTS:\")\n",
        "for model_num in range(len(nn_train_mses)):\n",
        "    print(\n",
        "        f\"Model {model_num+1}: Training MSE: {nn_train_mses[model_num]:.2f}, \" +\n",
        "        f\"CV MSE: {nn_cv_mses[model_num]:.2f}\"\n",
        "        )"
      ],
      "metadata": {
        "colab": {
          "base_uri": "https://localhost:8080/"
        },
        "id": "PsLI29U5S_F2",
        "outputId": "430e7bd2-cb44-40b6-f030-dad3e55a814b"
      },
      "execution_count": 31,
      "outputs": [
        {
          "output_type": "stream",
          "name": "stdout",
          "text": [
            "Training sequential...\n",
            "Done!\n",
            "\n",
            "2/2 [==============================] - 0s 5ms/step\n",
            "1/1 [==============================] - 0s 21ms/step\n",
            "Training sequential_1...\n",
            "Done!\n",
            "\n",
            "2/2 [==============================] - 0s 7ms/step\n",
            "1/1 [==============================] - 0s 30ms/step\n",
            "Training sequential_2...\n",
            "Done!\n",
            "\n",
            "2/2 [==============================] - 0s 4ms/step\n",
            "1/1 [==============================] - 0s 36ms/step\n",
            "RESULTS:\n",
            "Model 1: Training MSE: 227.81, CV MSE: 234.61\n",
            "Model 2: Training MSE: 248.86, CV MSE: 246.97\n",
            "Model 3: Training MSE: 254.51, CV MSE: 222.27\n"
          ]
        }
      ]
    },
    {
      "cell_type": "code",
      "source": [
        "#From the recorded errors, you can decide which is the best model for your application. Look at the results above and see if you agree with the selected model_num below.\n",
        "#Finally, you will compute the test error to estimate how well it generalizes to new examples."
      ],
      "metadata": {
        "id": "Zx_knEiGUjX6"
      },
      "execution_count": 32,
      "outputs": []
    },
    {
      "cell_type": "code",
      "source": [
        "# Select the model with the lowest CV MSE\n",
        "model_num = 1\n",
        "\n",
        "# Compute the test MSE\n",
        "yhat = nn_models[model_num-1].predict(X_test_mapped_scaled)\n",
        "test_mse = mean_squared_error(y_test, yhat) / 2\n",
        "\n",
        "print(f\"Selected Model: {model_num}\")\n",
        "print(f\"Training MSE: {nn_train_mses[model_num-1]:.2f}\")\n",
        "print(f\"Cross Validation MSE: {nn_cv_mses[model_num-1]:.2f}\")\n",
        "print(f\"Test MSE: {test_mse:.2f}\")"
      ],
      "metadata": {
        "colab": {
          "base_uri": "https://localhost:8080/"
        },
        "id": "copAUtsdc6QJ",
        "outputId": "7fd6bef9-367a-4d5d-dbf9-4da8ea89be32"
      },
      "execution_count": 33,
      "outputs": [
        {
          "output_type": "stream",
          "name": "stdout",
          "text": [
            "1/1 [==============================] - 0s 31ms/step\n",
            "Selected Model: 1\n",
            "Training MSE: 227.81\n",
            "Cross Validation MSE: 234.61\n",
            "Test MSE: 262.76\n"
          ]
        }
      ]
    },
    {
      "cell_type": "code",
      "source": [
        "#Classification\n",
        "#In this last part of the lab, you will practice model evaluation and selection on a classification task.\n",
        "#The process will be similar, with the main difference being the computation of the errors. You will see that in the following sections.\n",
        "\n",
        "x_bc,y_bc=make_blobs(n_samples=200, n_features=2, centers=2, cluster_std=1.2, random_state=0)\n",
        "\n",
        "\n",
        "\n",
        "# Convert y into 2-D because the commands later will require it (x is already 2-D)\n",
        "y_bc = np.expand_dims(y_bc, axis=1)\n",
        "\n",
        "print(f\"the shape of the inputs x is: {x_bc.shape}\")\n",
        "print(f\"the shape of the targets y is: {y_bc.shape}\")\n",
        "\n",
        "plt.scatter(x_bc[:, 0], x_bc[:, 1], c=y_bc, s=20, cmap='winter')"
      ],
      "metadata": {
        "colab": {
          "base_uri": "https://localhost:8080/",
          "height": 482
        },
        "id": "eJ13oIm5fXzL",
        "outputId": "98ef3aa6-9827-48ba-bb3a-2d0b2c3e975a"
      },
      "execution_count": 34,
      "outputs": [
        {
          "output_type": "stream",
          "name": "stdout",
          "text": [
            "the shape of the inputs x is: (200, 2)\n",
            "the shape of the targets y is: (200, 1)\n"
          ]
        },
        {
          "output_type": "execute_result",
          "data": {
            "text/plain": [
              "<matplotlib.collections.PathCollection at 0x7fd2f769dd50>"
            ]
          },
          "metadata": {},
          "execution_count": 34
        },
        {
          "output_type": "display_data",
          "data": {
            "text/plain": [
              "<Figure size 640x480 with 1 Axes>"
            ],
            "image/png": "[encoded data removed]"
          },
          "metadata": {}
        }
      ]
    },
    {
      "cell_type": "code",
      "source": [
        "from sklearn.model_selection import train_test_split\n",
        "\n",
        "# Get 60% of the dataset as the training set. Put the remaining 40% in temporary variables.\n",
        "x_bc_train, x_, y_bc_train, y_ = train_test_split(x_bc, y_bc, test_size=0.40, random_state=1)\n",
        "\n",
        "# Split the 40% subset above into two: one half for cross validation and the other for the test set\n",
        "x_bc_cv, x_bc_test, y_bc_cv, y_bc_test = train_test_split(x_, y_, test_size=0.50, random_state=1)\n",
        "\n",
        "# Delete temporary variables\n",
        "del x_, y_\n",
        "\n",
        "print(f\"the shape of the training set (input) is: {x_bc_train.shape}\")\n",
        "print(f\"the shape of the training set (target) is: {y_bc_train.shape}\\n\")\n",
        "print(f\"the shape of the cross validation set (input) is: {x_bc_cv.shape}\")\n",
        "print(f\"the shape of the cross validation set (target) is: {y_bc_cv.shape}\\n\")\n",
        "print(f\"the shape of the test set (input) is: {x_bc_test.shape}\")\n",
        "print(f\"the shape of the test set (target) is: {y_bc_test.shape}\")"
      ],
      "metadata": {
        "colab": {
          "base_uri": "https://localhost:8080/"
        },
        "id": "efRJRgRlgDWu",
        "outputId": "18f127cc-c645-4d31-829c-00ebd95ec3c9"
      },
      "execution_count": 35,
      "outputs": [
        {
          "output_type": "stream",
          "name": "stdout",
          "text": [
            "the shape of the training set (input) is: (120, 2)\n",
            "the shape of the training set (target) is: (120, 1)\n",
            "\n",
            "the shape of the cross validation set (input) is: (40, 2)\n",
            "the shape of the cross validation set (target) is: (40, 1)\n",
            "\n",
            "the shape of the test set (input) is: (40, 2)\n",
            "the shape of the test set (target) is: (40, 1)\n"
          ]
        }
      ]
    },
    {
      "cell_type": "code",
      "source": [
        "# Scale the features\n",
        "\n",
        "# Initialize the class\n",
        "scaler_linear = StandardScaler()\n",
        "\n",
        "# Compute the mean and standard deviation of the training set then transform it\n",
        "x_bc_train_scaled = scaler_linear.fit_transform(x_bc_train)\n",
        "x_bc_cv_scaled = scaler_linear.transform(x_bc_cv)\n",
        "x_bc_test_scaled = scaler_linear.transform(x_bc_test)"
      ],
      "metadata": {
        "id": "qMaIL55JhDey"
      },
      "execution_count": 36,
      "outputs": []
    },
    {
      "cell_type": "code",
      "source": [
        "\"\"\"\"Evaluating the error for classification models\n",
        "In the previous sections on regression models, you used the mean squared error to measure how well your model is doing.\n",
        " For classification, you can get a similar metric by getting the fraction of the data that the model has misclassified.\n",
        " For example, if your model made wrong predictions for 2 samples out of 5, then you will report an error of 40% or 0.4.\n",
        " The code below demonstrates this using a for-loop and also with Numpy's mean() function.\"\"\""
      ],
      "metadata": {
        "colab": {
          "base_uri": "https://localhost:8080/",
          "height": 70
        },
        "id": "esOWU9e_hIvI",
        "outputId": "6ed9e6ff-492f-4c28-a37e-ef6021ab5c65"
      },
      "execution_count": 37,
      "outputs": [
        {
          "output_type": "execute_result",
          "data": {
            "text/plain": [
              "'\"Evaluating the error for classification models\\nIn the previous sections on regression models, you used the mean squared error to measure how well your model is doing.\\n For classification, you can get a similar metric by getting the fraction of the data that the model has misclassified. \\n For example, if your model made wrong predictions for 2 samples out of 5, then you will report an error of 40% or 0.4. \\n The code below demonstrates this using a for-loop and also with Numpy\\'s mean() function.'"
            ],
            "application/vnd.google.colaboratory.intrinsic+json": {
              "type": "string"
            }
          },
          "metadata": {},
          "execution_count": 37
        }
      ]
    },
    {
      "cell_type": "code",
      "source": [
        "# Sample model output\n",
        "probabilities = np.array([0.2, 0.6, 0.7, 0.3, 0.8])\n",
        "\n",
        "# Apply a threshold to the model output. If greater than 0.5, set to 1. Else 0.\n",
        "predictions = np.where(probabilities >= 0.5, 1, 0)\n",
        "\n",
        "# Ground truth labels\n",
        "ground_truth = np.array([1, 1, 1, 1, 1])\n",
        "\n",
        "# Initialize counter for misclassified data\n",
        "misclassified = 0\n",
        "\n",
        "# Get number of predictions\n",
        "num_predictions = len(predictions)\n",
        "\n",
        "# Loop over each prediction\n",
        "for i in range(num_predictions):\n",
        "\n",
        "    # Check if it matches the ground truth\n",
        "    if predictions[i] != ground_truth[i]:\n",
        "\n",
        "        # Add one to the counter if the prediction is wrong\n",
        "        misclassified += 1\n",
        "\n",
        "# Compute the fraction of the data that the model misclassified\n",
        "fraction_error = misclassified/num_predictions\n",
        "\n",
        "print(f\"probabilities: {probabilities}\")\n",
        "print(f\"predictions with threshold=0.5: {predictions}\")\n",
        "print(f\"targets: {ground_truth}\")\n",
        "print(f\"fraction of misclassified data (for-loop): {fraction_error}\")\n",
        "print(f\"fraction of misclassified data (with np.mean()): {np.mean(predictions != ground_truth)}\")"
      ],
      "metadata": {
        "colab": {
          "base_uri": "https://localhost:8080/"
        },
        "id": "-gpCWUAchQh1",
        "outputId": "e363192a-0de1-4f78-eb15-50bab65bbb65"
      },
      "execution_count": 38,
      "outputs": [
        {
          "output_type": "stream",
          "name": "stdout",
          "text": [
            "probabilities: [0.2 0.6 0.7 0.3 0.8]\n",
            "predictions with threshold=0.5: [0 1 1 0 1]\n",
            "targets: [1 1 1 1 1]\n",
            "fraction of misclassified data (for-loop): 0.4\n",
            "fraction of misclassified data (with np.mean()): 0.4\n"
          ]
        }
      ]
    },
    {
      "cell_type": "code",
      "source": [
        "\"\"\"Build and train the model\n",
        "You will use the same neural network architectures in the previous section so you can call the build_models() function again to create new instances of these models.\n",
        "\n",
        "You will follow the recommended approach mentioned last week where you use a linear activation for the output layer (instead of sigmoid)\n",
        "then set from_logits=True when declaring the loss function of the model. You will use the binary crossentropy loss because this is a binary classification problem.\n",
        "\n",
        "After training, you will use a sigmoid function to convert the model outputs into probabilities. From there, you can set a threshold and get\n",
        " the fraction of misclassified examples from the training and cross validation sets.\"\"\""
      ],
      "metadata": {
        "colab": {
          "base_uri": "https://localhost:8080/",
          "height": 88
        },
        "id": "HKxRbwOaEb4S",
        "outputId": "9f76f360-6961-40bc-e1a6-3b0c68bcc41a"
      },
      "execution_count": 40,
      "outputs": [
        {
          "output_type": "execute_result",
          "data": {
            "text/plain": [
              "'Build and train the model\\nYou will use the same neural network architectures in the previous section so you can call the build_models() function again to create new instances of these models.\\n\\nYou will follow the recommended approach mentioned last week where you use a linear activation for the output layer (instead of sigmoid) \\nthen set from_logits=True when declaring the loss function of the model. You will use the binary crossentropy loss because this is a binary classification problem.\\n\\nAfter training, you will use a sigmoid function to convert the model outputs into probabilities. From there, you can set a threshold and get\\n the fraction of misclassified examples from the training and cross validation sets.'"
            ],
            "application/vnd.google.colaboratory.intrinsic+json": {
              "type": "string"
            }
          },
          "metadata": {},
          "execution_count": 40
        }
      ]
    },
    {
      "cell_type": "code",
      "source": [
        "# Initialize lists that will contain the errors for each model\n",
        "nn_train_error = []\n",
        "nn_cv_error = []\n",
        "\n",
        "# Build the models\n",
        "model1 = Sequential(\n",
        "    [\n",
        "        tf.keras.Input(shape=(2,)),\n",
        "        Dense(25, activation='relu', name = 'layer1'),\n",
        "        Dense(15, activation='relu', name = 'layer2'),\n",
        "        Dense(1, activation='linear', name = 'layer3')\n",
        "     ]\n",
        ")\n",
        "model2 = Sequential(\n",
        "    [\n",
        "        tf.keras.Input(shape=(2,)),\n",
        "        Dense(20, activation='relu', name = 'layer1'),\n",
        "        Dense(12, activation='relu', name = 'layer2'),\n",
        "        Dense(12, activation='relu', name = 'layer3'),\n",
        "        Dense(20, activation='relu', name = 'layer4'),\n",
        "        Dense(1, activation='linear', name = 'layer5')\n",
        "     ]\n",
        ")\n",
        "model3 = Sequential(\n",
        "    [\n",
        "        tf.keras.Input(shape=(2,)),\n",
        "        Dense(32, activation='relu', name = 'layer1'),\n",
        "        Dense(16, activation='relu', name = 'layer2'),\n",
        "        Dense(8, activation='relu', name = 'layer3'),\n",
        "        Dense(4, activation='relu', name = 'layer4'),\n",
        "        Dense(12, activation='relu', name = 'layer5'),\n",
        "        Dense(1, activation='linear', name = 'layer6')\n",
        "     ]\n",
        ")\n",
        "\n",
        "models_bc=[model1,model2,model3]\n",
        "\n",
        "# Loop over each model\n",
        "for model in models_bc:\n",
        "\n",
        "    # Setup the loss and optimizer\n",
        "    model.compile(\n",
        "    loss=tf.keras.losses.BinaryCrossentropy(from_logits=True),\n",
        "    optimizer=tf.keras.optimizers.Adam(learning_rate=0.01),\n",
        "    )\n",
        "\n",
        "    print(f\"Training {model.name}...\")\n",
        "\n",
        "    # Train the model\n",
        "    model.fit(\n",
        "        x_bc_train_scaled, y_bc_train,\n",
        "        epochs=200,\n",
        "        verbose=0\n",
        "    )\n",
        "\n",
        "    print(\"Done!\\n\")\n",
        "\n",
        "    # Set the threshold for classification\n",
        "    threshold = 0.5\n",
        "\n",
        "    # Record the fraction of misclassified examples for the training set\n",
        "    yhat = model.predict(x_bc_train_scaled)\n",
        "    yhat = tf.math.sigmoid(yhat)\n",
        "    yhat = np.where(yhat >= threshold, 1, 0)\n",
        "    train_error = np.mean(yhat != y_bc_train)\n",
        "    nn_train_error.append(train_error)\n",
        "\n",
        "    # Record the fraction of misclassified examples for the cross validation set\n",
        "    yhat = model.predict(x_bc_cv_scaled)\n",
        "    yhat = tf.math.sigmoid(yhat)\n",
        "    yhat = np.where(yhat >= threshold, 1, 0)\n",
        "    cv_error = np.mean(yhat != y_bc_cv)\n",
        "    nn_cv_error.append(cv_error)\n",
        "\n",
        "# Print the result\n",
        "for model_num in range(len(nn_train_error)):\n",
        "    print(\n",
        "        f\"Model {model_num+1}: Training Set Classification Error: {nn_train_error[model_num]:.5f}, \" +\n",
        "        f\"CV Set Classification Error: {nn_cv_error[model_num]:.5f}\"\n",
        "        )"
      ],
      "metadata": {
        "colab": {
          "base_uri": "https://localhost:8080/"
        },
        "id": "d6NXb8pREjI7",
        "outputId": "a85a7e41-d9e1-46cb-8e67-7ce0a6a83f02"
      },
      "execution_count": 44,
      "outputs": [
        {
          "output_type": "stream",
          "name": "stdout",
          "text": [
            "Training sequential_12...\n",
            "Done!\n",
            "\n",
            "4/4 [==============================] - 0s 3ms/step\n",
            "2/2 [==============================] - 0s 6ms/step\n",
            "Training sequential_13...\n",
            "Done!\n",
            "\n",
            "4/4 [==============================] - 0s 3ms/step\n",
            "2/2 [==============================] - 0s 6ms/step\n",
            "Training sequential_14...\n",
            "Done!\n",
            "\n",
            "4/4 [==============================] - 0s 3ms/step\n",
            "2/2 [==============================] - 0s 4ms/step\n",
            "Model 1: Training Set Classification Error: 0.00000, CV Set Classification Error: 0.15000\n",
            "Model 2: Training Set Classification Error: 0.00000, CV Set Classification Error: 0.12500\n",
            "Model 3: Training Set Classification Error: 0.01667, CV Set Classification Error: 0.15000\n"
          ]
        }
      ]
    },
    {
      "cell_type": "code",
      "source": [
        "#From the output above, you can choose which one performed best. If there is a tie on the cross validation set error,\n",
        "#then you can pick the one with the lower training set error. Finally, you can compute the test error to report the model's generalization error."
      ],
      "metadata": {
        "id": "30Q__NJ6F2hx"
      },
      "execution_count": 45,
      "outputs": []
    },
    {
      "cell_type": "code",
      "source": [
        "# Select the model with the lowest error\n",
        "model_num = 1\n",
        "\n",
        "# Compute the test error\n",
        "yhat = models_bc[model_num-1].predict(x_bc_test_scaled)\n",
        "yhat = tf.math.sigmoid(yhat)\n",
        "yhat = np.where(yhat >= threshold, 1, 0)\n",
        "nn_test_error = np.mean(yhat != y_bc_test)\n",
        "\n",
        "print(f\"Selected Model: {model_num}\")\n",
        "print(f\"Training Set Classification Error: {nn_train_error[model_num-1]:.4f}\")\n",
        "print(f\"CV Set Classification Error: {nn_cv_error[model_num-1]:.4f}\")\n",
        "print(f\"Test Set Classification Error: {nn_test_error:.4f}\")"
      ],
      "metadata": {
        "colab": {
          "base_uri": "https://localhost:8080/"
        },
        "id": "KRVU3_JlGWix",
        "outputId": "6aaec081-9f31-4f91-8600-1bf6c5f74460"
      },
      "execution_count": 46,
      "outputs": [
        {
          "output_type": "stream",
          "name": "stdout",
          "text": [
            "2/2 [==============================] - 0s 11ms/step\n",
            "Selected Model: 1\n",
            "Training Set Classification Error: 0.0000\n",
            "CV Set Classification Error: 0.1500\n",
            "Test Set Classification Error: 0.0750\n"
          ]
        }
      ]
    },
    {
      "cell_type": "code",
      "source": [],
      "metadata": {
        "id": "YqR_m66SGcyu"
      },
      "execution_count": null,
      "outputs": []
    }
  ]
}