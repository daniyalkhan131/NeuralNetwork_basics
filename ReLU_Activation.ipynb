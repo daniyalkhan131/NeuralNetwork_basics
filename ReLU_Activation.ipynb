{
  "nbformat": 4,
  "nbformat_minor": 0,
  "metadata": {
    "colab": {
      "provenance": []
    },
    "kernelspec": {
      "name": "python3",
      "display_name": "Python 3"
    },
    "language_info": {
      "name": "python"
    }
  },
  "cells": [
    {
      "cell_type": "code",
      "execution_count": null,
      "metadata": {
        "id": "lRGB_HyFvhqa"
      },
      "outputs": [],
      "source": [
        "import tensorflow as tf\n",
        "import numpy as np\n",
        "import matplotlib.pyplot as plt"
      ]
    },
    {
      "cell_type": "code",
      "source": [
        "# all things were automated so screenshots are there in folder"
      ],
      "metadata": {
        "id": "eqttA-_J2vea"
      },
      "execution_count": null,
      "outputs": []
    },
    {
      "cell_type": "code",
      "source": [
        "# different ReLU functions together can make a non linear function because on negative input it gives zero so every unit is reponsible for its part and result is summuation\n",
        "#of all so they contribute to after there respective zero value(which comes with their params) but not of before"
      ],
      "metadata": {
        "id": "A9kuL-MJ3JHi"
      },
      "execution_count": null,
      "outputs": []
    }
  ]
}