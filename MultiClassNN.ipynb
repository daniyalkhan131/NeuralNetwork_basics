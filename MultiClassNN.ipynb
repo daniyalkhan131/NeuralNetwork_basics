{
  "nbformat": 4,
  "nbformat_minor": 0,
  "metadata": {
    "colab": {
      "provenance": []
    },
    "kernelspec": {
      "name": "python3",
      "display_name": "Python 3"
    },
    "language_info": {
      "name": "python"
    }
  },
  "cells": [
    {
      "cell_type": "code",
      "execution_count": null,
      "metadata": {
        "id": "BDzD9HxNEYHP",
        "colab": {
          "base_uri": "https://localhost:8080/",
          "height": 105
        },
        "outputId": "8746983a-2024-4cee-892d-ce1044bb12ae"
      },
      "outputs": [
        {
          "output_type": "execute_result",
          "data": {
            "text/plain": [
              "\"Neural Networks are often used to classify data. Examples are neural networks:\\n\\ntake in photos and classify subjects in the photos as {dog,cat,horse,other}\\ntake in a sentence and classify the 'parts of speech' of its elements: {noun, verb, adjective etc..}\\nA network of this type will have multiple units in its final layer. Each output is associated with a category. When an input example is applied to the network, \\nthe output with the highest value is the category predicted. If the output is applied to a softmax function, the output of the softmax will provide probabilities of \\nthe input being in each category.\\n\\nIn this lab you will see an example of building a multiclass network in Tensorflow. We will then take a look at how the neural network makes its predictions.\\n\\nLet's start by creating a four-class data set.\""
            ],
            "application/vnd.google.colaboratory.intrinsic+json": {
              "type": "string"
            }
          },
          "metadata": {},
          "execution_count": 88
        }
      ],
      "source": [
        "\"\"\"Neural Networks are often used to classify data. Examples are neural networks:\n",
        "\n",
        "take in photos and classify subjects in the photos as {dog,cat,horse,other}\n",
        "take in a sentence and classify the 'parts of speech' of its elements: {noun, verb, adjective etc..}\n",
        "A network of this type will have multiple units in its final layer. Each output is associated with a category. When an input example is applied to the network, \n",
        "the output with the highest value is the category predicted. If the output is applied to a softmax function, the output of the softmax will provide probabilities of \n",
        "the input being in each category.\n",
        "\n",
        "In this lab you will see an example of building a multiclass network in Tensorflow. We will then take a look at how the neural network makes its predictions.\n",
        "\n",
        "Let's start by creating a four-class data set.\"\"\""
      ]
    },
    {
      "cell_type": "code",
      "source": [
        "import numpy as np\n",
        "import matplotlib.pyplot as plt\n",
        "from sklearn.datasets import make_blobs\n",
        "import tensorflow as tf\n",
        "from tensorflow.keras.models import Sequential\n",
        "from tensorflow.keras.layers import Dense"
      ],
      "metadata": {
        "id": "kiW4CxOyXPEp"
      },
      "execution_count": null,
      "outputs": []
    },
    {
      "cell_type": "code",
      "source": [
        "#We will use Scikit-Learn make_blobs function to make a training data set with 4 categories as shown in the plot below."
      ],
      "metadata": {
        "id": "aBQW_qOmXnZW"
      },
      "execution_count": null,
      "outputs": []
    },
    {
      "cell_type": "code",
      "source": [
        "# make 4-class dataset for classification\n",
        "classes = 4\n",
        "m = 100\n",
        "centers = [[-5, 2], [-2, -2], [1, 2], [5, -2]]\n",
        "std = 1.0\n",
        "X_train, y_train = make_blobs(n_samples=m, centers=centers, cluster_std=std,random_state=30)"
      ],
      "metadata": {
        "id": "TWlKGe6ZXrPt"
      },
      "execution_count": null,
      "outputs": []
    },
    {
      "cell_type": "code",
      "source": [
        "class0=y_train==0\n",
        "class1=y_train==1\n",
        "class2=y_train==2\n",
        "class3=y_train==3\n",
        "X0=X_train[class0]\n",
        "X1=X_train[class1]\n",
        "X2=X_train[class2]\n",
        "X3=X_train[class3]\n",
        "plt.plot(X0[:,0],X0[:,1],'b.')\n",
        "plt.plot(X1[:,0],X1[:,1],'r.')\n",
        "plt.plot(X2[:,0],X2[:,1],'g.')\n",
        "plt.plot(X3[:,0],X3[:,1],'y.')"
      ],
      "metadata": {
        "colab": {
          "base_uri": "https://localhost:8080/",
          "height": 451
        },
        "id": "Qlz5buFzXxl7",
        "outputId": "13702dc2-3b5a-4bb3-95d7-31beb76fd05a"
      },
      "execution_count": null,
      "outputs": [
        {
          "output_type": "execute_result",
          "data": {
            "text/plain": [
              "[<matplotlib.lines.Line2D at 0x7f9e4c212290>]"
            ]
          },
          "metadata": {},
          "execution_count": 92
        },
        {
          "output_type": "display_data",
          "data": {
            "text/plain": [
              "<Figure size 640x480 with 1 Axes>"
            ],
            "image/png": "[encoded data removed]"
          },
          "metadata": {}
        }
      ]
    },
    {
      "cell_type": "code",
      "source": [
        "# show classes in data set\n",
        "print(f\"unique classes {np.unique(y_train)}\")\n",
        "# show how classes are represented\n",
        "print(f\"class representation {y_train[:10]}\")\n",
        "# show shapes of our dataset\n",
        "print(f\"shape of X_train: {X_train.shape}, shape of y_train: {y_train.shape}\")"
      ],
      "metadata": {
        "colab": {
          "base_uri": "https://localhost:8080/"
        },
        "id": "C3jYulC9XzWY",
        "outputId": "cdc0ee4d-84d7-4c60-9c0a-258ec22159a4"
      },
      "execution_count": null,
      "outputs": [
        {
          "output_type": "stream",
          "name": "stdout",
          "text": [
            "unique classes [0 1 2 3]\n",
            "class representation [3 3 3 0 3 3 3 3 2 0]\n",
            "shape of X_train: (100, 2), shape of y_train: (100,)\n"
          ]
        }
      ]
    },
    {
      "cell_type": "code",
      "source": [
        "\"\"\"This lab will use a 2-layer network as shown. Unlike the binary classification networks, this network has four outputs, one for each class. Given an input example, \n",
        "the output with the highest value is the predicted class of the input.\n",
        "Below is an example of how to construct this network in Tensorflow. Notice the output layer uses a linear rather than a softmax activation. While it is possible to \n",
        "include the softmax in the output layer, it is more numerically stable if linear outputs are passed to the loss function during training. If the model is used to \n",
        "predict probabilities, \n",
        "the softmax can be applied at that point.\"\"\""
      ],
      "metadata": {
        "colab": {
          "base_uri": "https://localhost:8080/",
          "height": 88
        },
        "id": "MrzNmUrbYmay",
        "outputId": "dffb859b-36b5-4c2b-8f09-b1ab5cabbc27"
      },
      "execution_count": null,
      "outputs": [
        {
          "output_type": "execute_result",
          "data": {
            "text/plain": [
              "'This lab will use a 2-layer network as shown. Unlike the binary classification networks, this network has four outputs, one for each class. Given an input example, \\nthe output with the highest value is the predicted class of the input.\\nBelow is an example of how to construct this network in Tensorflow. Notice the output layer uses a linear rather than a softmax activation. While it is possible to \\ninclude the softmax in the output layer, it is more numerically stable if linear outputs are passed to the loss function during training. If the model is used to \\npredict probabilities, \\nthe softmax can be applied at that point.'"
            ],
            "application/vnd.google.colaboratory.intrinsic+json": {
              "type": "string"
            }
          },
          "metadata": {},
          "execution_count": 94
        }
      ]
    },
    {
      "cell_type": "code",
      "source": [
        "model=Sequential([Dense(units=2,activation='relu',name='l1'),\n",
        "                  Dense(units=4,activation='linear',name='l2')\n",
        "                  ]\n",
        "                 )"
      ],
      "metadata": {
        "id": "gdEaRdw4Z-L1"
      },
      "execution_count": null,
      "outputs": []
    },
    {
      "cell_type": "code",
      "source": [
        "#The statements below compile and train the network. Setting from_logits=True as an argument to the loss function specifies that the\n",
        "# output activation was linear rather than a softmax."
      ],
      "metadata": {
        "id": "VTbLWAYyadR1"
      },
      "execution_count": null,
      "outputs": []
    },
    {
      "cell_type": "code",
      "source": [
        "model.compile(loss=tf.keras.losses.SparseCategoricalCrossentropy(from_logits=True),\n",
        "              optimizer=tf.keras.optimizers.Adam(0.01)\n",
        "              )\n",
        "\n",
        "model.fit(X_train,y_train,epochs=200)"
      ],
      "metadata": {
        "colab": {
          "base_uri": "https://localhost:8080/"
        },
        "id": "gkjVnStaajMT",
        "outputId": "18a96e95-0f9f-4631-ce53-eae4ad64b3a0"
      },
      "execution_count": null,
      "outputs": [
        {
          "output_type": "stream",
          "name": "stdout",
          "text": [
            "Epoch 1/200\n",
            "4/4 [==============================] - 1s 3ms/step - loss: 2.7434\n",
            "Epoch 2/200\n",
            "4/4 [==============================] - 0s 6ms/step - loss: 2.4894\n",
            "Epoch 3/200\n",
            "4/4 [==============================] - 0s 4ms/step - loss: 2.2440\n",
            "Epoch 4/200\n",
            "4/4 [==============================] - 0s 3ms/step - loss: 2.0304\n",
            "Epoch 5/200\n",
            "4/4 [==============================] - 0s 4ms/step - loss: 1.8182\n",
            "Epoch 6/200\n",
            "4/4 [==============================] - 0s 3ms/step - loss: 1.6529\n",
            "Epoch 7/200\n",
            "4/4 [==============================] - 0s 3ms/step - loss: 1.4890\n",
            "Epoch 8/200\n",
            "4/4 [==============================] - 0s 3ms/step - loss: 1.3514\n",
            "Epoch 9/200\n",
            "4/4 [==============================] - 0s 3ms/step - loss: 1.2407\n",
            "Epoch 10/200\n",
            "4/4 [==============================] - 0s 4ms/step - loss: 1.1553\n",
            "Epoch 11/200\n",
            "4/4 [==============================] - 0s 3ms/step - loss: 1.0845\n",
            "Epoch 12/200\n",
            "4/4 [==============================] - 0s 4ms/step - loss: 1.0232\n",
            "Epoch 13/200\n",
            "4/4 [==============================] - 0s 3ms/step - loss: 0.9711\n",
            "Epoch 14/200\n",
            "4/4 [==============================] - 0s 3ms/step - loss: 0.9266\n",
            "Epoch 15/200\n",
            "4/4 [==============================] - 0s 3ms/step - loss: 0.8871\n",
            "Epoch 16/200\n",
            "4/4 [==============================] - 0s 3ms/step - loss: 0.8510\n",
            "Epoch 17/200\n",
            "4/4 [==============================] - 0s 3ms/step - loss: 0.8191\n",
            "Epoch 18/200\n",
            "4/4 [==============================] - 0s 3ms/step - loss: 0.7901\n",
            "Epoch 19/200\n",
            "4/4 [==============================] - 0s 4ms/step - loss: 0.7633\n",
            "Epoch 20/200\n",
            "4/4 [==============================] - 0s 6ms/step - loss: 0.7405\n",
            "Epoch 21/200\n",
            "4/4 [==============================] - 0s 3ms/step - loss: 0.7194\n",
            "Epoch 22/200\n",
            "4/4 [==============================] - 0s 2ms/step - loss: 0.7001\n",
            "Epoch 23/200\n",
            "4/4 [==============================] - 0s 3ms/step - loss: 0.6829\n",
            "Epoch 24/200\n",
            "4/4 [==============================] - 0s 3ms/step - loss: 0.6670\n",
            "Epoch 25/200\n",
            "4/4 [==============================] - 0s 4ms/step - loss: 0.6527\n",
            "Epoch 26/200\n",
            "4/4 [==============================] - 0s 4ms/step - loss: 0.6387\n",
            "Epoch 27/200\n",
            "4/4 [==============================] - 0s 3ms/step - loss: 0.6262\n",
            "Epoch 28/200\n",
            "4/4 [==============================] - 0s 4ms/step - loss: 0.6145\n",
            "Epoch 29/200\n",
            "4/4 [==============================] - 0s 3ms/step - loss: 0.6041\n",
            "Epoch 30/200\n",
            "4/4 [==============================] - 0s 4ms/step - loss: 0.5943\n",
            "Epoch 31/200\n",
            "4/4 [==============================] - 0s 4ms/step - loss: 0.5852\n",
            "Epoch 32/200\n",
            "4/4 [==============================] - 0s 3ms/step - loss: 0.5762\n",
            "Epoch 33/200\n",
            "4/4 [==============================] - 0s 3ms/step - loss: 0.5682\n",
            "Epoch 34/200\n",
            "4/4 [==============================] - 0s 3ms/step - loss: 0.5601\n",
            "Epoch 35/200\n",
            "4/4 [==============================] - 0s 4ms/step - loss: 0.5530\n",
            "Epoch 36/200\n",
            "4/4 [==============================] - 0s 3ms/step - loss: 0.5462\n",
            "Epoch 37/200\n",
            "4/4 [==============================] - 0s 3ms/step - loss: 0.5393\n",
            "Epoch 38/200\n",
            "4/4 [==============================] - 0s 3ms/step - loss: 0.5334\n",
            "Epoch 39/200\n",
            "4/4 [==============================] - 0s 4ms/step - loss: 0.5272\n",
            "Epoch 40/200\n",
            "4/4 [==============================] - 0s 4ms/step - loss: 0.5215\n",
            "Epoch 41/200\n",
            "4/4 [==============================] - 0s 4ms/step - loss: 0.5164\n",
            "Epoch 42/200\n",
            "4/4 [==============================] - 0s 4ms/step - loss: 0.5111\n",
            "Epoch 43/200\n",
            "4/4 [==============================] - 0s 4ms/step - loss: 0.5060\n",
            "Epoch 44/200\n",
            "4/4 [==============================] - 0s 5ms/step - loss: 0.5015\n",
            "Epoch 45/200\n",
            "4/4 [==============================] - 0s 4ms/step - loss: 0.4973\n",
            "Epoch 46/200\n",
            "4/4 [==============================] - 0s 3ms/step - loss: 0.4935\n",
            "Epoch 47/200\n",
            "4/4 [==============================] - 0s 4ms/step - loss: 0.4902\n",
            "Epoch 48/200\n",
            "4/4 [==============================] - 0s 4ms/step - loss: 0.4864\n",
            "Epoch 49/200\n",
            "4/4 [==============================] - 0s 4ms/step - loss: 0.4832\n",
            "Epoch 50/200\n",
            "4/4 [==============================] - 0s 4ms/step - loss: 0.4801\n",
            "Epoch 51/200\n",
            "4/4 [==============================] - 0s 4ms/step - loss: 0.4772\n",
            "Epoch 52/200\n",
            "4/4 [==============================] - 0s 4ms/step - loss: 0.4740\n",
            "Epoch 53/200\n",
            "4/4 [==============================] - 0s 4ms/step - loss: 0.4709\n",
            "Epoch 54/200\n",
            "4/4 [==============================] - 0s 4ms/step - loss: 0.4677\n",
            "Epoch 55/200\n",
            "4/4 [==============================] - 0s 4ms/step - loss: 0.4648\n",
            "Epoch 56/200\n",
            "4/4 [==============================] - 0s 5ms/step - loss: 0.4621\n",
            "Epoch 57/200\n",
            "4/4 [==============================] - 0s 4ms/step - loss: 0.4591\n",
            "Epoch 58/200\n",
            "4/4 [==============================] - 0s 4ms/step - loss: 0.4566\n",
            "Epoch 59/200\n",
            "4/4 [==============================] - 0s 3ms/step - loss: 0.4546\n",
            "Epoch 60/200\n",
            "4/4 [==============================] - 0s 5ms/step - loss: 0.4522\n",
            "Epoch 61/200\n",
            "4/4 [==============================] - 0s 4ms/step - loss: 0.4502\n",
            "Epoch 62/200\n",
            "4/4 [==============================] - 0s 5ms/step - loss: 0.4480\n",
            "Epoch 63/200\n",
            "4/4 [==============================] - 0s 3ms/step - loss: 0.4461\n",
            "Epoch 64/200\n",
            "4/4 [==============================] - 0s 4ms/step - loss: 0.4443\n",
            "Epoch 65/200\n",
            "4/4 [==============================] - 0s 4ms/step - loss: 0.4425\n",
            "Epoch 66/200\n",
            "4/4 [==============================] - 0s 3ms/step - loss: 0.4404\n",
            "Epoch 67/200\n",
            "4/4 [==============================] - 0s 3ms/step - loss: 0.4385\n",
            "Epoch 68/200\n",
            "4/4 [==============================] - 0s 4ms/step - loss: 0.4365\n",
            "Epoch 69/200\n",
            "4/4 [==============================] - 0s 4ms/step - loss: 0.4348\n",
            "Epoch 70/200\n",
            "4/4 [==============================] - 0s 3ms/step - loss: 0.4327\n",
            "Epoch 71/200\n",
            "4/4 [==============================] - 0s 3ms/step - loss: 0.4310\n",
            "Epoch 72/200\n",
            "4/4 [==============================] - 0s 4ms/step - loss: 0.4292\n",
            "Epoch 73/200\n",
            "4/4 [==============================] - 0s 5ms/step - loss: 0.4278\n",
            "Epoch 74/200\n",
            "4/4 [==============================] - 0s 4ms/step - loss: 0.4262\n",
            "Epoch 75/200\n",
            "4/4 [==============================] - 0s 4ms/step - loss: 0.4245\n",
            "Epoch 76/200\n",
            "4/4 [==============================] - 0s 3ms/step - loss: 0.4230\n",
            "Epoch 77/200\n",
            "4/4 [==============================] - 0s 4ms/step - loss: 0.4218\n",
            "Epoch 78/200\n",
            "4/4 [==============================] - 0s 4ms/step - loss: 0.4205\n",
            "Epoch 79/200\n",
            "4/4 [==============================] - 0s 4ms/step - loss: 0.4191\n",
            "Epoch 80/200\n",
            "4/4 [==============================] - 0s 4ms/step - loss: 0.4177\n",
            "Epoch 81/200\n",
            "4/4 [==============================] - 0s 4ms/step - loss: 0.4163\n",
            "Epoch 82/200\n",
            "4/4 [==============================] - 0s 4ms/step - loss: 0.4147\n",
            "Epoch 83/200\n",
            "4/4 [==============================] - 0s 3ms/step - loss: 0.4140\n",
            "Epoch 84/200\n",
            "4/4 [==============================] - 0s 3ms/step - loss: 0.4125\n",
            "Epoch 85/200\n",
            "4/4 [==============================] - 0s 4ms/step - loss: 0.4111\n",
            "Epoch 86/200\n",
            "4/4 [==============================] - 0s 4ms/step - loss: 0.4097\n",
            "Epoch 87/200\n",
            "4/4 [==============================] - 0s 4ms/step - loss: 0.4085\n",
            "Epoch 88/200\n",
            "4/4 [==============================] - 0s 4ms/step - loss: 0.4074\n",
            "Epoch 89/200\n",
            "4/4 [==============================] - 0s 4ms/step - loss: 0.4061\n",
            "Epoch 90/200\n",
            "4/4 [==============================] - 0s 3ms/step - loss: 0.4049\n",
            "Epoch 91/200\n",
            "4/4 [==============================] - 0s 4ms/step - loss: 0.4036\n",
            "Epoch 92/200\n",
            "4/4 [==============================] - 0s 4ms/step - loss: 0.4025\n",
            "Epoch 93/200\n",
            "4/4 [==============================] - 0s 3ms/step - loss: 0.4012\n",
            "Epoch 94/200\n",
            "4/4 [==============================] - 0s 4ms/step - loss: 0.4000\n",
            "Epoch 95/200\n",
            "4/4 [==============================] - 0s 4ms/step - loss: 0.3987\n",
            "Epoch 96/200\n",
            "4/4 [==============================] - 0s 3ms/step - loss: 0.3982\n",
            "Epoch 97/200\n",
            "4/4 [==============================] - 0s 3ms/step - loss: 0.3973\n",
            "Epoch 98/200\n",
            "4/4 [==============================] - 0s 4ms/step - loss: 0.3962\n",
            "Epoch 99/200\n",
            "4/4 [==============================] - 0s 4ms/step - loss: 0.3950\n",
            "Epoch 100/200\n",
            "4/4 [==============================] - 0s 3ms/step - loss: 0.3935\n",
            "Epoch 101/200\n",
            "4/4 [==============================] - 0s 4ms/step - loss: 0.3923\n",
            "Epoch 102/200\n",
            "4/4 [==============================] - 0s 3ms/step - loss: 0.3914\n",
            "Epoch 103/200\n",
            "4/4 [==============================] - 0s 3ms/step - loss: 0.3901\n",
            "Epoch 104/200\n",
            "4/4 [==============================] - 0s 3ms/step - loss: 0.3890\n",
            "Epoch 105/200\n",
            "4/4 [==============================] - 0s 4ms/step - loss: 0.3881\n",
            "Epoch 106/200\n",
            "4/4 [==============================] - 0s 3ms/step - loss: 0.3870\n",
            "Epoch 107/200\n",
            "4/4 [==============================] - 0s 3ms/step - loss: 0.3860\n",
            "Epoch 108/200\n",
            "4/4 [==============================] - 0s 4ms/step - loss: 0.3850\n",
            "Epoch 109/200\n",
            "4/4 [==============================] - 0s 3ms/step - loss: 0.3839\n",
            "Epoch 110/200\n",
            "4/4 [==============================] - 0s 5ms/step - loss: 0.3828\n",
            "Epoch 111/200\n",
            "4/4 [==============================] - 0s 4ms/step - loss: 0.3817\n",
            "Epoch 112/200\n",
            "4/4 [==============================] - 0s 5ms/step - loss: 0.3807\n",
            "Epoch 113/200\n",
            "4/4 [==============================] - 0s 4ms/step - loss: 0.3795\n",
            "Epoch 114/200\n",
            "4/4 [==============================] - 0s 4ms/step - loss: 0.3785\n",
            "Epoch 115/200\n",
            "4/4 [==============================] - 0s 5ms/step - loss: 0.3775\n",
            "Epoch 116/200\n",
            "4/4 [==============================] - 0s 4ms/step - loss: 0.3762\n",
            "Epoch 117/200\n",
            "4/4 [==============================] - 0s 4ms/step - loss: 0.3753\n",
            "Epoch 118/200\n",
            "4/4 [==============================] - 0s 4ms/step - loss: 0.3740\n",
            "Epoch 119/200\n",
            "4/4 [==============================] - 0s 4ms/step - loss: 0.3728\n",
            "Epoch 120/200\n",
            "4/4 [==============================] - 0s 4ms/step - loss: 0.3714\n",
            "Epoch 121/200\n",
            "4/4 [==============================] - 0s 4ms/step - loss: 0.3700\n",
            "Epoch 122/200\n",
            "4/4 [==============================] - 0s 4ms/step - loss: 0.3681\n",
            "Epoch 123/200\n",
            "4/4 [==============================] - 0s 4ms/step - loss: 0.3664\n",
            "Epoch 124/200\n",
            "4/4 [==============================] - 0s 4ms/step - loss: 0.3640\n",
            "Epoch 125/200\n",
            "4/4 [==============================] - 0s 4ms/step - loss: 0.3616\n",
            "Epoch 126/200\n",
            "4/4 [==============================] - 0s 3ms/step - loss: 0.3587\n",
            "Epoch 127/200\n",
            "4/4 [==============================] - 0s 3ms/step - loss: 0.3553\n",
            "Epoch 128/200\n",
            "4/4 [==============================] - 0s 3ms/step - loss: 0.3506\n",
            "Epoch 129/200\n",
            "4/4 [==============================] - 0s 3ms/step - loss: 0.3464\n",
            "Epoch 130/200\n",
            "4/4 [==============================] - 0s 3ms/step - loss: 0.3417\n",
            "Epoch 131/200\n",
            "4/4 [==============================] - 0s 3ms/step - loss: 0.3375\n",
            "Epoch 132/200\n",
            "4/4 [==============================] - 0s 3ms/step - loss: 0.3322\n",
            "Epoch 133/200\n",
            "4/4 [==============================] - 0s 3ms/step - loss: 0.3265\n",
            "Epoch 134/200\n",
            "4/4 [==============================] - 0s 5ms/step - loss: 0.3208\n",
            "Epoch 135/200\n",
            "4/4 [==============================] - 0s 3ms/step - loss: 0.3137\n",
            "Epoch 136/200\n",
            "4/4 [==============================] - 0s 4ms/step - loss: 0.3063\n",
            "Epoch 137/200\n",
            "4/4 [==============================] - 0s 3ms/step - loss: 0.2987\n",
            "Epoch 138/200\n",
            "4/4 [==============================] - 0s 3ms/step - loss: 0.2916\n",
            "Epoch 139/200\n",
            "4/4 [==============================] - 0s 3ms/step - loss: 0.2835\n",
            "Epoch 140/200\n",
            "4/4 [==============================] - 0s 3ms/step - loss: 0.2762\n",
            "Epoch 141/200\n",
            "4/4 [==============================] - 0s 3ms/step - loss: 0.2678\n",
            "Epoch 142/200\n",
            "4/4 [==============================] - 0s 4ms/step - loss: 0.2598\n",
            "Epoch 143/200\n",
            "4/4 [==============================] - 0s 3ms/step - loss: 0.2511\n",
            "Epoch 144/200\n",
            "4/4 [==============================] - 0s 3ms/step - loss: 0.2434\n",
            "Epoch 145/200\n",
            "4/4 [==============================] - 0s 3ms/step - loss: 0.2352\n",
            "Epoch 146/200\n",
            "4/4 [==============================] - 0s 4ms/step - loss: 0.2278\n",
            "Epoch 147/200\n",
            "4/4 [==============================] - 0s 3ms/step - loss: 0.2213\n",
            "Epoch 148/200\n",
            "4/4 [==============================] - 0s 3ms/step - loss: 0.2149\n",
            "Epoch 149/200\n",
            "4/4 [==============================] - 0s 3ms/step - loss: 0.2088\n",
            "Epoch 150/200\n",
            "4/4 [==============================] - 0s 3ms/step - loss: 0.2030\n",
            "Epoch 151/200\n",
            "4/4 [==============================] - 0s 3ms/step - loss: 0.1977\n",
            "Epoch 152/200\n",
            "4/4 [==============================] - 0s 3ms/step - loss: 0.1925\n",
            "Epoch 153/200\n",
            "4/4 [==============================] - 0s 3ms/step - loss: 0.1871\n",
            "Epoch 154/200\n",
            "4/4 [==============================] - 0s 3ms/step - loss: 0.1824\n",
            "Epoch 155/200\n",
            "4/4 [==============================] - 0s 4ms/step - loss: 0.1775\n",
            "Epoch 156/200\n",
            "4/4 [==============================] - 0s 3ms/step - loss: 0.1732\n",
            "Epoch 157/200\n",
            "4/4 [==============================] - 0s 3ms/step - loss: 0.1687\n",
            "Epoch 158/200\n",
            "4/4 [==============================] - 0s 3ms/step - loss: 0.1651\n",
            "Epoch 159/200\n",
            "4/4 [==============================] - 0s 3ms/step - loss: 0.1614\n",
            "Epoch 160/200\n",
            "4/4 [==============================] - 0s 3ms/step - loss: 0.1581\n",
            "Epoch 161/200\n",
            "4/4 [==============================] - 0s 4ms/step - loss: 0.1547\n",
            "Epoch 162/200\n",
            "4/4 [==============================] - 0s 3ms/step - loss: 0.1517\n",
            "Epoch 163/200\n",
            "4/4 [==============================] - 0s 3ms/step - loss: 0.1489\n",
            "Epoch 164/200\n",
            "4/4 [==============================] - 0s 3ms/step - loss: 0.1462\n",
            "Epoch 165/200\n",
            "4/4 [==============================] - 0s 3ms/step - loss: 0.1438\n",
            "Epoch 166/200\n",
            "4/4 [==============================] - 0s 4ms/step - loss: 0.1409\n",
            "Epoch 167/200\n",
            "4/4 [==============================] - 0s 3ms/step - loss: 0.1371\n",
            "Epoch 168/200\n",
            "4/4 [==============================] - 0s 4ms/step - loss: 0.1329\n",
            "Epoch 169/200\n",
            "4/4 [==============================] - 0s 3ms/step - loss: 0.1280\n",
            "Epoch 170/200\n",
            "4/4 [==============================] - 0s 4ms/step - loss: 0.1233\n",
            "Epoch 171/200\n",
            "4/4 [==============================] - 0s 3ms/step - loss: 0.1177\n",
            "Epoch 172/200\n",
            "4/4 [==============================] - 0s 3ms/step - loss: 0.1133\n",
            "Epoch 173/200\n",
            "4/4 [==============================] - 0s 4ms/step - loss: 0.1080\n",
            "Epoch 174/200\n",
            "4/4 [==============================] - 0s 4ms/step - loss: 0.1038\n",
            "Epoch 175/200\n",
            "4/4 [==============================] - 0s 4ms/step - loss: 0.1002\n",
            "Epoch 176/200\n",
            "4/4 [==============================] - 0s 4ms/step - loss: 0.0970\n",
            "Epoch 177/200\n",
            "4/4 [==============================] - 0s 4ms/step - loss: 0.0942\n",
            "Epoch 178/200\n",
            "4/4 [==============================] - 0s 3ms/step - loss: 0.0916\n",
            "Epoch 179/200\n",
            "4/4 [==============================] - 0s 3ms/step - loss: 0.0894\n",
            "Epoch 180/200\n",
            "4/4 [==============================] - 0s 4ms/step - loss: 0.0871\n",
            "Epoch 181/200\n",
            "4/4 [==============================] - 0s 4ms/step - loss: 0.0850\n",
            "Epoch 182/200\n",
            "4/4 [==============================] - 0s 3ms/step - loss: 0.0829\n",
            "Epoch 183/200\n",
            "4/4 [==============================] - 0s 3ms/step - loss: 0.0809\n",
            "Epoch 184/200\n",
            "4/4 [==============================] - 0s 3ms/step - loss: 0.0790\n",
            "Epoch 185/200\n",
            "4/4 [==============================] - 0s 3ms/step - loss: 0.0771\n",
            "Epoch 186/200\n",
            "4/4 [==============================] - 0s 3ms/step - loss: 0.0752\n",
            "Epoch 187/200\n",
            "4/4 [==============================] - 0s 3ms/step - loss: 0.0735\n",
            "Epoch 188/200\n",
            "4/4 [==============================] - 0s 3ms/step - loss: 0.0717\n",
            "Epoch 189/200\n",
            "4/4 [==============================] - 0s 3ms/step - loss: 0.0703\n",
            "Epoch 190/200\n",
            "4/4 [==============================] - 0s 3ms/step - loss: 0.0688\n",
            "Epoch 191/200\n",
            "4/4 [==============================] - 0s 3ms/step - loss: 0.0674\n",
            "Epoch 192/200\n",
            "4/4 [==============================] - 0s 4ms/step - loss: 0.0660\n",
            "Epoch 193/200\n",
            "4/4 [==============================] - 0s 3ms/step - loss: 0.0648\n",
            "Epoch 194/200\n",
            "4/4 [==============================] - 0s 4ms/step - loss: 0.0636\n",
            "Epoch 195/200\n",
            "4/4 [==============================] - 0s 3ms/step - loss: 0.0624\n",
            "Epoch 196/200\n",
            "4/4 [==============================] - 0s 4ms/step - loss: 0.0613\n",
            "Epoch 197/200\n",
            "4/4 [==============================] - 0s 4ms/step - loss: 0.0602\n",
            "Epoch 198/200\n",
            "4/4 [==============================] - 0s 4ms/step - loss: 0.0590\n",
            "Epoch 199/200\n",
            "4/4 [==============================] - 0s 4ms/step - loss: 0.0579\n",
            "Epoch 200/200\n",
            "4/4 [==============================] - 0s 4ms/step - loss: 0.0568\n"
          ]
        },
        {
          "output_type": "execute_result",
          "data": {
            "text/plain": [
              "<keras.callbacks.History at 0x7f9e3d160460>"
            ]
          },
          "metadata": {},
          "execution_count": 97
        }
      ]
    },
    {
      "cell_type": "code",
      "source": [
        "\"\"\"Above, the decision boundaries show how the model has partitioned the input space. This very simple model has had no trouble classifying the training data.\n",
        " How did it accomplish this? Let's look at the network in more detail.\n",
        "\n",
        "Below, we will pull the trained weights from the model and use that to plot the function of each of the network units. Further down, there is a more detailed\n",
        " explanation of the results. You don't need to know these details to successfully use neural networks, but it may be helpful to gain more intuition about how\n",
        "  the layers combine to solve a classification problem.\"\"\""
      ],
      "metadata": {
        "colab": {
          "base_uri": "https://localhost:8080/",
          "height": 88
        },
        "id": "1I6P64tGbH0_",
        "outputId": "1ac8e2dc-f7dc-4156-8a44-d4d7ce9e75a5"
      },
      "execution_count": null,
      "outputs": [
        {
          "output_type": "execute_result",
          "data": {
            "text/plain": [
              "\"Above, the decision boundaries show how the model has partitioned the input space. This very simple model has had no trouble classifying the training data.\\n How did it accomplish this? Let's look at the network in more detail.\\n\\nBelow, we will pull the trained weights from the model and use that to plot the function of each of the network units. Further down, there is a more detailed\\n explanation of the results. You don't need to know these details to successfully use neural networks, but it may be helpful to gain more intuition about how\\n  the layers combine to solve a classification problem.\""
            ],
            "application/vnd.google.colaboratory.intrinsic+json": {
              "type": "string"
            }
          },
          "metadata": {},
          "execution_count": 98
        }
      ]
    },
    {
      "cell_type": "code",
      "source": [
        "# gather the trained parameters from the first layer\n",
        "l1 = model.get_layer(\"l1\")\n",
        "W1,b1 = l1.get_weights()"
      ],
      "metadata": {
        "id": "PM4nBZ0JbywE"
      },
      "execution_count": null,
      "outputs": []
    },
    {
      "cell_type": "code",
      "source": [
        "print(W1)\n",
        "print(b1)"
      ],
      "metadata": {
        "colab": {
          "base_uri": "https://localhost:8080/"
        },
        "id": "LaHmsu1Jb6LQ",
        "outputId": "4d509074-2a4c-40b1-c3cb-f7fa98716203"
      },
      "execution_count": null,
      "outputs": [
        {
          "output_type": "stream",
          "name": "stdout",
          "text": [
            "[[-1.3093162  -0.48564866]\n",
            " [-0.90949476  1.5747236 ]]\n",
            "[1.3422929  0.91791946]\n"
          ]
        }
      ]
    },
    {
      "cell_type": "code",
      "source": [
        "m=-(W1[0,0]/W1[1,0])\n",
        "c=-(b1[0]/W1[1,0])\n",
        "y_pred=m*X_train[:,0]+c\n",
        "plt.plot(X_train[:,0],y_pred)\n",
        "class0=y_train==0\n",
        "class1=y_train==1\n",
        "class2=y_train==2\n",
        "class3=y_train==3\n",
        "X0=X_train[class0]\n",
        "X1=X_train[class1]\n",
        "X2=X_train[class2]\n",
        "X3=X_train[class3]\n",
        "plt.plot(X0[:,0],X0[:,1],'b.')\n",
        "plt.plot(X1[:,0],X1[:,1],'r.')\n",
        "plt.plot(X2[:,0],X2[:,1],'g.')\n",
        "plt.plot(X3[:,0],X3[:,1],'y.')\n",
        "\n",
        "\n",
        "m=-(W1[0,1]/W1[1,1])\n",
        "c=-(b1[1]/W1[1,1])\n",
        "y_pred=m*X_train[:,0]+c\n",
        "plt.plot(X_train[:,0],y_pred)"
      ],
      "metadata": {
        "colab": {
          "base_uri": "https://localhost:8080/",
          "height": 447
        },
        "id": "CWP-ywtdgd6D",
        "outputId": "30ac208f-812f-46d5-b6e1-f963b1cc6e28"
      },
      "execution_count": null,
      "outputs": [
        {
          "output_type": "execute_result",
          "data": {
            "text/plain": [
              "[<matplotlib.lines.Line2D at 0x7f9e3cef9450>]"
            ]
          },
          "metadata": {},
          "execution_count": 101
        },
        {
          "output_type": "display_data",
          "data": {
            "text/plain": [
              "<Figure size 640x480 with 1 Axes>"
            ],
            "image/png": "[encoded data removed]"
          },
          "metadata": {}
        }
      ]
    },
    {
      "cell_type": "code",
      "source": [
        "# gather the trained parameters from the output layer\n",
        "l2 = model.get_layer(\"l2\")\n",
        "W2, b2 = l2.get_weights()"
      ],
      "metadata": {
        "id": "vcXDWC_fg4AJ"
      },
      "execution_count": null,
      "outputs": []
    },
    {
      "cell_type": "code",
      "source": [
        "print(W2)\n",
        "print(b2)"
      ],
      "metadata": {
        "colab": {
          "base_uri": "https://localhost:8080/"
        },
        "id": "Qzr5ifSqg5X6",
        "outputId": "2a2e39a8-966d-4008-cf3c-c2b830d9ee5c"
      },
      "execution_count": null,
      "outputs": [
        {
          "output_type": "stream",
          "name": "stdout",
          "text": [
            "[[ 0.3672287  1.0914418 -1.5048088 -2.6701274]\n",
            " [ 1.0954173 -1.6069894  1.2446816 -1.8149108]]\n",
            "[-2.5909214 -1.4777112  0.7341688  2.8219652]\n"
          ]
        }
      ]
    },
    {
      "cell_type": "code",
      "source": [
        "# create the 'new features', the training examples after L1 transformation\n",
        "Xl2 = np.maximum(0, np.dot(X_train,W1) + b1)"
      ],
      "metadata": {
        "id": "1t0jM4npiK2D"
      },
      "execution_count": null,
      "outputs": []
    },
    {
      "cell_type": "code",
      "source": [
        "# here i dont know what i did but try to see the decision boundaries made by ANN\n",
        "#for i in range(4):\n",
        " # m=-(W2[0,i]/W2[1,i])\n",
        "  #c=-(b2[i]/W2[1,i])\n",
        " # y_pred=m*Xl2[:,0]+c\n",
        " # plt.plot(Xl2[:,0],y_pred)  we cannot plot lines here for seperatinf beacue thiss is output layer\n",
        "class0=y_train==0\n",
        "class1=y_train==1\n",
        "class2=y_train==2\n",
        "class3=y_train==3\n",
        "X0=Xl2[class0]\n",
        "X1=Xl2[class1]\n",
        "X2=Xl2[class2]\n",
        "X3=Xl2[class3]\n",
        "plt.plot(X0[:,0],X0[:,1],'b.')\n",
        "plt.plot(X1[:,0],X1[:,1],'r.')\n",
        "plt.plot(X2[:,0],X2[:,1],'g.')\n",
        "plt.plot(X3[:,0],X3[:,1],'y.')"
      ],
      "metadata": {
        "colab": {
          "base_uri": "https://localhost:8080/",
          "height": 447
        },
        "id": "3pvBMvjwiNXA",
        "outputId": "67c05444-98d8-48f3-f417-cbf69c0b1148"
      },
      "execution_count": null,
      "outputs": [
        {
          "output_type": "execute_result",
          "data": {
            "text/plain": [
              "[<matplotlib.lines.Line2D at 0x7f9e3cce30a0>]"
            ]
          },
          "metadata": {},
          "execution_count": 111
        },
        {
          "output_type": "display_data",
          "data": {
            "text/plain": [
              "<Figure size 640x480 with 1 Axes>"
            ],
            "image/png": "[encoded data removed]"
          },
          "metadata": {}
        }
      ]
    },
    {
      "cell_type": "code",
      "source": [
        "\"\"\"Layer 1 \n",
        "These plots show the function of Units 0 and 1 in the first layer of the network. The inputs are ( 𝑥0,𝑥1\n",
        " ) on the axis. The output of the unit is represented by the color of the background. This is indicated by the color bar on the right of each graph. \n",
        " Notice that since these units are using a ReLu, the outputs do not necessarily fall between 0 and 1 and in this case are greater than 20 at their peaks.\n",
        "  The contour lines in this graph show the transition point between the output,  𝑎[1]𝑗\n",
        "  being zero and non-zero. Recall the graph for a ReLu : The contour line in the graph is the inflection point in the ReLu.\n",
        "\n",
        "Unit 0 has separated classes 0 and 1 from classes 2 and 3. Points to the left of the line (classes 0 and 1) will output zero, while points to the right will \n",
        "output a value greater than zero.\n",
        "Unit 1 has separated classes 0 and 2 from classes 1 and 3. Points above the line (classes 0 and 2 ) will output a zero, while points below will output a value\n",
        " greater than zero. Let's see how this works out in the next layer!\"\"\""
      ],
      "metadata": {
        "colab": {
          "base_uri": "https://localhost:8080/",
          "height": 123
        },
        "id": "K_geumkDkLuj",
        "outputId": "ddc45067-9839-4ddb-f86a-d8657e605896"
      },
      "execution_count": null,
      "outputs": [
        {
          "output_type": "execute_result",
          "data": {
            "text/plain": [
              "\"Layer 1 \\nThese plots show the function of Units 0 and 1 in the first layer of the network. The inputs are ( 𝑥0,𝑥1\\n ) on the axis. The output of the unit is represented by the color of the background. This is indicated by the color bar on the right of each graph. \\n Notice that since these units are using a ReLu, the outputs do not necessarily fall between 0 and 1 and in this case are greater than 20 at their peaks.\\n  The contour lines in this graph show the transition point between the output,  𝑎[1]𝑗\\n  being zero and non-zero. Recall the graph for a ReLu : The contour line in the graph is the inflection point in the ReLu.\\n\\nUnit 0 has separated classes 0 and 1 from classes 2 and 3. Points to the left of the line (classes 0 and 1) will output zero, while points to the right will \\noutput a value greater than zero.\\nUnit 1 has separated classes 0 and 2 from classes 1 and 3. Points above the line (classes 0 and 2 ) will output a zero, while points below will output a value\\n greater than zero. Let's see how this works out in the next layer!\""
            ],
            "application/vnd.google.colaboratory.intrinsic+json": {
              "type": "string"
            }
          },
          "metadata": {},
          "execution_count": 112
        }
      ]
    },
    {
      "cell_type": "code",
      "source": [
        "\"\"\"Layer 2, the output layer \n",
        "The dots in these graphs are the training examples translated by the first layer. One way to think of this is the first layer has created a new set of features for\n",
        " evaluation by the 2nd layer. The axes in these plots are the outputs of the previous layer  𝑎[1]0\n",
        "  and  𝑎[1]1\n",
        " . As predicted above, classes 0 and 1 (blue and green) have  𝑎[1]0=0\n",
        "  while classes 0 and 2 (blue and orange) have  𝑎[1]1=0\n",
        " .\n",
        "Once again, the intensity of the background color indicates the highest values.\n",
        "Unit 0 will produce its maximum value for values near (0,0), where class 0 (blue) has been mapped.\n",
        "Unit 1 produces its highest values in the upper left corner selecting class 1 (green).\n",
        "Unit 2 targets the lower right corner where class 2 (orange) resides.\n",
        "Unit 3 produces its highest values in the upper right selecting our final class (purple).\n",
        "\n",
        "One other aspect that is not obvious from the graphs is that the values have been coordinated between the units. It is not sufficient for a unit to\n",
        " produce a maximum value for the class it is selecting for, it must also be the highest value of all the units for points in that class. This is done \n",
        " by the implied softmax function that is part of the loss function (SparseCategoricalCrossEntropy). Unlike other activation functions, the softmax works across all the outputs.\n",
        "\n",
        "You can successfully use neural networks without knowing the details of what each unit is up to. Hopefully, this example has provided some intuition \n",
        "about what is happening under the hood.\"\"\""
      ],
      "metadata": {
        "colab": {
          "base_uri": "https://localhost:8080/",
          "height": 123
        },
        "id": "c2SAvjRdnUWb",
        "outputId": "76032677-c3ba-4b37-a706-8fb48c7f0cb6"
      },
      "execution_count": null,
      "outputs": [
        {
          "output_type": "execute_result",
          "data": {
            "text/plain": [
              "'Layer 2, the output layer \\nThe dots in these graphs are the training examples translated by the first layer. One way to think of this is the first layer has created a new set of features for\\n evaluation by the 2nd layer. The axes in these plots are the outputs of the previous layer  𝑎[1]0\\n  and  𝑎[1]1\\n . As predicted above, classes 0 and 1 (blue and green) have  𝑎[1]0=0\\n  while classes 0 and 2 (blue and orange) have  𝑎[1]1=0\\n .\\nOnce again, the intensity of the background color indicates the highest values.\\nUnit 0 will produce its maximum value for values near (0,0), where class 0 (blue) has been mapped.\\nUnit 1 produces its highest values in the upper left corner selecting class 1 (green).\\nUnit 2 targets the lower right corner where class 2 (orange) resides.\\nUnit 3 produces its highest values in the upper right selecting our final class (purple).\\n\\nOne other aspect that is not obvious from the graphs is that the values have been coordinated between the units. It is not sufficient for a unit to\\n produce a maximum value for the class it is selecting for, it must also be the highest value of all the units for points in that class. This is done \\n by the implied softmax function that is part of the loss function (SparseCategoricalCrossEntropy). Unlike other activation functions, the softmax works across all the outputs.\\n\\nYou can successfully use neural networks without knowing the details of what each unit is up to. Hopefully, this example has provided some intuition \\nabout what is happening under the hood.'"
            ],
            "application/vnd.google.colaboratory.intrinsic+json": {
              "type": "string"
            }
          },
          "metadata": {},
          "execution_count": 113
        }
      ]
    },
    {
      "cell_type": "code",
      "source": [],
      "metadata": {
        "id": "duB0VJNGnxFi"
      },
      "execution_count": null,
      "outputs": []
    }
  ]
}