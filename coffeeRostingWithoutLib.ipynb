{
  "nbformat": 4,
  "nbformat_minor": 0,
  "metadata": {
    "colab": {
      "provenance": []
    },
    "kernelspec": {
      "name": "python3",
      "display_name": "Python 3"
    },
    "language_info": {
      "name": "python"
    }
  },
  "cells": [
    {
      "cell_type": "code",
      "execution_count": 17,
      "metadata": {
        "id": "TfQXegqJV1rG"
      },
      "outputs": [],
      "source": [
        "import numpy as np\n",
        "import matplotlib.pyplot as plt\n",
        "import tensorflow as tf"
      ]
    },
    {
      "cell_type": "code",
      "source": [
        "X=np.array([[1,3],[15,17],[3,6],[22,24],[6,5],[7,6]])\n",
        "Y=np.array([[1],[0],[1],[0],[1],[1]])\n",
        "print(X.shape, Y.shape)"
      ],
      "metadata": {
        "id": "gg2K0mkkWQw2",
        "colab": {
          "base_uri": "https://localhost:8080/"
        },
        "outputId": "9e2f8034-1bdc-4e30-c711-3dd3faa16788"
      },
      "execution_count": 18,
      "outputs": [
        {
          "output_type": "stream",
          "name": "stdout",
          "text": [
            "(6, 2) (6, 1)\n"
          ]
        }
      ]
    },
    {
      "cell_type": "code",
      "source": [
        "Xt = np.tile(X,(10,1))\n",
        "Yt= np.tile(Y,(10,1))   \n",
        "print(Xt.shape, Yt.shape)  \n",
        "X=Xt\n",
        "Y=Yt"
      ],
      "metadata": {
        "colab": {
          "base_uri": "https://localhost:8080/"
        },
        "id": "BvtpUVX9XQv_",
        "outputId": "f34862ab-72e7-4c13-f4a1-e416bcb4a542"
      },
      "execution_count": 19,
      "outputs": [
        {
          "output_type": "stream",
          "name": "stdout",
          "text": [
            "(60, 2) (60, 1)\n"
          ]
        }
      ]
    },
    {
      "cell_type": "code",
      "source": [
        "print(f\"Temperature Max, Min pre normalization: {np.max(X[:,0]):0.2f}, {np.min(X[:,0]):0.2f}\")\n",
        "print(f\"Duration    Max, Min pre normalization: {np.max(X[:,1]):0.2f}, {np.min(X[:,1]):0.2f}\")\n",
        "norm_l = tf.keras.layers.Normalization(axis=-1)\n",
        "norm_l.adapt(X)  # learns mean, variance\n",
        "Xn = norm_l(X)\n",
        "print(f\"Temperature Max, Min post normalization: {np.max(Xn[:,0]):0.2f}, {np.min(Xn[:,0]):0.2f}\")\n",
        "print(f\"Duration    Max, Min post normalization: {np.max(Xn[:,1]):0.2f}, {np.min(Xn[:,1]):0.2f}\")"
      ],
      "metadata": {
        "colab": {
          "base_uri": "https://localhost:8080/"
        },
        "id": "9jSae2VRXV4B",
        "outputId": "ec1aabfa-3b37-4f05-f6e3-991c6b2d9091"
      },
      "execution_count": 20,
      "outputs": [
        {
          "output_type": "stream",
          "name": "stdout",
          "text": [
            "Temperature Max, Min pre normalization: 22.00, 1.00\n",
            "Duration    Max, Min pre normalization: 24.00, 3.00\n",
            "Temperature Max, Min post normalization: 1.79, -1.10\n",
            "Duration    Max, Min post normalization: 1.81, -0.94\n"
          ]
        }
      ]
    },
    {
      "cell_type": "code",
      "source": [
        "#WHY axis=1 or -1 is working???\n",
        "#this is how we do preprocessing the data\n",
        "t=np.array([1,2,3,4,5,5,5,6,6,7]).reshape(5,-1)\n",
        "tt=np.array([1,2,3])\n",
        "#tt=np.array([[1,1],[2,2],[3,3]])  if use this then axis=-1 using the last index for calc different mean and variance\n",
        "print(t)\n",
        "norm_l = tf.keras.layers.Normalization(axis=None)\n",
        "norm_l.adapt(tt)\n",
        "tn=norm_l(t)\n",
        "print(tn)"
      ],
      "metadata": {
        "colab": {
          "base_uri": "https://localhost:8080/"
        },
        "id": "9KjnCSsXXbXW",
        "outputId": "722f2632-810f-4772-c65f-d7ffec4182a6"
      },
      "execution_count": 21,
      "outputs": [
        {
          "output_type": "stream",
          "name": "stdout",
          "text": [
            "[[1 2]\n",
            " [3 4]\n",
            " [5 5]\n",
            " [5 6]\n",
            " [6 7]]\n",
            "tf.Tensor(\n",
            "[[-1.2247448  0.       ]\n",
            " [ 1.2247448  2.4494896]\n",
            " [ 3.6742344  3.6742344]\n",
            " [ 3.6742344  4.898979 ]\n",
            " [ 4.898979   6.123724 ]], shape=(5, 2), dtype=float32)\n"
          ]
        }
      ]
    },
    {
      "cell_type": "code",
      "source": [
        "def g(z):\n",
        "  zz=np.float128(z)\n",
        "  return 1/(1+np.exp(-zz))\n",
        "\n",
        "\n",
        "\n",
        "\"\"\" overflow encountered in exp in Python.\n",
        "\n",
        "This warning occurs while using the NumPy library’s exp() function upon using on a value that is too large.\n",
        "This warning occurs because the maximum size of data that can be used in NumPy is float64 whose maximum range is 1.7976931348623157e+308. \n",
        "Upon taking logarithm its value becomes 709.782. For any larger value than this, the warning is generated.\n",
        "\n",
        "Let us discuss ways to fix this.\n",
        "\n",
        "Method 1: Using float128\n",
        "The data type float64 can be changed to float128\"\"\""
      ],
      "metadata": {
        "colab": {
          "base_uri": "https://localhost:8080/",
          "height": 70
        },
        "id": "8RLtzMzeZCUB",
        "outputId": "18adc93f-fbd1-4125-9066-a16dd72d0041"
      },
      "execution_count": 22,
      "outputs": [
        {
          "output_type": "execute_result",
          "data": {
            "text/plain": [
              "' overflow encountered in exp in Python.\\n\\nThis warning occurs while using the NumPy library’s exp() function upon using on a value that is too large.\\nThis warning occurs because the maximum size of data that can be used in NumPy is float64 whose maximum range is 1.7976931348623157e+308. \\nUpon taking logarithm its value becomes 709.782. For any larger value than this, the warning is generated.\\n\\nLet us discuss ways to fix this.\\n\\nMethod 1: Using float128\\nThe data type float64 can be changed to float128'"
            ],
            "application/vnd.google.colaboratory.intrinsic+json": {
              "type": "string"
            }
          },
          "metadata": {},
          "execution_count": 22
        }
      ]
    },
    {
      "cell_type": "code",
      "source": [
        " def my_dense(a_in,W,b):\n",
        "  \"\"\"\n",
        "    Computes dense layer\n",
        "    Args:\n",
        "      a_in (ndarray (n, )) : Data, 1 example \n",
        "      W    (ndarray (n,j)) : Weight matrix, n features per unit, j units\n",
        "      b    (ndarray (j, )) : bias vector, j units  \n",
        "    Returns\n",
        "      a_out (ndarray (j,))  : j units|\n",
        "    \"\"\"\n",
        "  units = W.shape[1]\n",
        "  a_out = np.zeros(units)\n",
        "  for j in range(units):               \n",
        "    w = W[:,j]                                    \n",
        "    z = np.dot(w, a_in) + b[j]         \n",
        "    a_out[j] = g(z)               \n",
        "  return(a_out)\n",
        "\n",
        "\"\"\"Note: You can also implement the function above to accept g as an additional\n",
        " parameter (e.g. my_dense(a_in, W, b, g)). In this notebook though, you will only \n",
        " use one type of activation function (i.e. sigmoid) so it's okay to make it constant\n",
        "  and define it outside the function. That's what you did in the code above and it makes \n",
        "  the function calls in the next code cells simpler. Just keep in mind that passing it as \n",
        "  a parameter is also an acceptable implementation. You will see that in this week's assignment.\"\"\""
      ],
      "metadata": {
        "colab": {
          "base_uri": "https://localhost:8080/",
          "height": 70
        },
        "id": "IkKa8ADbasXQ",
        "outputId": "c59de273-58bc-4258-941f-a89dba39ccca"
      },
      "execution_count": 23,
      "outputs": [
        {
          "output_type": "execute_result",
          "data": {
            "text/plain": [
              "\"Note: You can also implement the function above to accept g as an additional\\nparameter (e.g. my_dense(a_in, W, b, g)). In this notebook though, you will only \\nuse one type of activation function (i.e. sigmoid) so it's okay to make it constant\\n and define it outside the function. That's what you did in the code above and it makes \\n the function calls in the next code cells simpler. Just keep in mind that passing it as \\n a parameter is also an acceptable implementation. You will see that in this week's assignment.\""
            ],
            "application/vnd.google.colaboratory.intrinsic+json": {
              "type": "string"
            }
          },
          "metadata": {},
          "execution_count": 23
        }
      ]
    },
    {
      "cell_type": "code",
      "source": [
        "# i did this, working exactly same\n",
        "def dense1(a_in,W,b):\n",
        "  \"\"\"\n",
        "    Computes dense layer\n",
        "    Args:\n",
        "      a_in (ndarray (n, )) : Data, 1 example \n",
        "      W    (ndarray (n,j)) : Weight matrix, n features per unit, j units\n",
        "      b    (ndarray (j, )) : bias vector, j units  \n",
        "    Returns\n",
        "      a_out (ndarray (j,))  : j units|\n",
        "    \"\"\"\n",
        "  units = W.shape[1]\n",
        "  #m=W.shape[0]\n",
        "  #a_out = np.zeros(units,m)                                        \n",
        "  z = np.dot(a_in,W) + b       \n",
        "  a_out = g(z)               \n",
        "  return(a_out)"
      ],
      "metadata": {
        "id": "F6q7KbTUbb_I"
      },
      "execution_count": 24,
      "outputs": []
    },
    {
      "cell_type": "code",
      "source": [
        "a=np.random.rand(5)\n",
        "w=np.random.rand(20).reshape(5,4)\n",
        "b=np.random.rand(4)\n",
        "\n",
        "print(my_dense(a,w,b))\n",
        "print(dense1(a,w,b))\n"
      ],
      "metadata": {
        "colab": {
          "base_uri": "https://localhost:8080/"
        },
        "id": "Kwl4hRob3WVA",
        "outputId": "f4365930-5342-40c7-a114-7c4c066d8def"
      },
      "execution_count": 25,
      "outputs": [
        {
          "output_type": "stream",
          "name": "stdout",
          "text": [
            "[0.88216866 0.9191386  0.82391566 0.90372313]\n",
            "[0.88216866 0.9191386  0.82391566 0.90372313]\n"
          ]
        }
      ]
    },
    {
      "cell_type": "code",
      "source": [
        "def my_sequential(x, W1, b1, W2, b2):\n",
        "    a1 = my_dense(x,  W1, b1)\n",
        "    a2 = my_dense(a1, W2, b2)\n",
        "    return(a2)"
      ],
      "metadata": {
        "id": "pclOdKVkcLp1"
      },
      "execution_count": 26,
      "outputs": []
    },
    {
      "cell_type": "code",
      "source": [
        "# i made this\n",
        "def sequential1(X,W1,b1,W2,b2):\n",
        "  a1=dense1(X,W1,b1)\n",
        "  a2=dense1(a1,W2,b2)\n",
        "  return a2"
      ],
      "metadata": {
        "id": "qBWzObrAgjin"
      },
      "execution_count": 27,
      "outputs": []
    },
    {
      "cell_type": "code",
      "source": [
        "W1_tmp = np.array( [[-8.93,  0.29, 12.9 ], [-0.1,  -7.32, 10.81]] )\n",
        "b1_tmp = np.array( [-9.82, -9.28,  0.96] )\n",
        "W2_tmp = np.array( [[-31.18], [-27.59], [-32.56]] )\n",
        "b2_tmp = np.array( [15.41] )"
      ],
      "metadata": {
        "id": "3ZRDc7z9ciY1"
      },
      "execution_count": 28,
      "outputs": []
    },
    {
      "cell_type": "code",
      "source": [
        "\"\"\"Once you have a trained model, you can then use it to make predictions. Recall that the output of our model is a probability. \n",
        "In this case, the probability of a good roast. To make a decision, one must apply the probability to a threshold. In this case, we will use 0.5\n",
        "\n",
        "Let's start by writing a routine similar to Tensorflow's model.predict(). This will take a matrix 𝑋\n",
        " with all 𝑚\n",
        " examples in the rows and make a prediction by running the model.\"\"\"\n",
        "\n",
        "def my_predict(X, W1, b1, W2, b2):\n",
        "  m = X.shape[0]\n",
        "  p = np.zeros((m,1))\n",
        "  for i in range(m):\n",
        "    p[i,0] = my_sequential(X[i], W1, b1, W2, b2)\n",
        "  return(p)"
      ],
      "metadata": {
        "id": "mNcShGoidMCE"
      },
      "execution_count": 29,
      "outputs": []
    },
    {
      "cell_type": "code",
      "source": [
        "X_tst = np.array([\n",
        "    [200,13.9],  # postive example\n",
        "    [200,17]])   # negative example\n",
        "X_tstn = norm_l(X_tst)  # remember to normalize\n",
        "predictions = my_predict(X_tstn, W1_tmp, b1_tmp, W2_tmp, b2_tmp)\n",
        "\n",
        "\n",
        "print(predictions)\n",
        "\n",
        "print(sequential1(X_tst,W1_tmp, b1_tmp, W2_tmp, b2_tmp)) # mine also working exactly same"
      ],
      "metadata": {
        "colab": {
          "base_uri": "https://localhost:8080/"
        },
        "id": "IZtAy4NqeJ_E",
        "outputId": "7f7b27b2-66a1-4cca-f878-2e2bf037abb2"
      },
      "execution_count": 30,
      "outputs": [
        {
          "output_type": "stream",
          "name": "stdout",
          "text": [
            "[[3.56327729e-08]\n",
            " [3.56327729e-08]]\n",
            "[[3.56327729e-08]\n",
            " [3.56327729e-08]]\n"
          ]
        }
      ]
    },
    {
      "cell_type": "code",
      "source": [
        "yhat = np.zeros_like(predictions)\n",
        "print(yhat)\n",
        "for i in range(len(predictions)):\n",
        "    if predictions[i] >= 0.5:                #in this value comes [False] so how it evaluates\n",
        "        yhat[i] = 1\n",
        "    else:\n",
        "        yhat[i] = 0\n",
        "print(f\"decisions = \\n{yhat}\")"
      ],
      "metadata": {
        "colab": {
          "base_uri": "https://localhost:8080/"
        },
        "id": "FdZo0BQmeVgL",
        "outputId": "7835dfaa-7f41-4f33-d2ac-c4f0fb8122b9"
      },
      "execution_count": 31,
      "outputs": [
        {
          "output_type": "stream",
          "name": "stdout",
          "text": [
            "[[0.]\n",
            " [0.]]\n",
            "decisions = \n",
            "[[0.]\n",
            " [0.]]\n"
          ]
        }
      ]
    },
    {
      "cell_type": "code",
      "source": [
        "# more concise way of doing\n",
        "yhat = (predictions >= 0.5).astype(int)\n",
        "print(f\"decisions = \\n{yhat}\")"
      ],
      "metadata": {
        "colab": {
          "base_uri": "https://localhost:8080/"
        },
        "id": "g6Lwd5I5jFlV",
        "outputId": "c1e53bfb-82ec-4f08-f4d4-b807724aa426"
      },
      "execution_count": 32,
      "outputs": [
        {
          "output_type": "stream",
          "name": "stdout",
          "text": [
            "decisions = \n",
            "[[0]\n",
            " [0]]\n"
          ]
        }
      ]
    },
    {
      "cell_type": "code",
      "source": [
        "a=np.array([[1,2,3],[1,2,3]])\n",
        "w=np.array([1,2,3])\n",
        "print(np.matmul(a,w))"
      ],
      "metadata": {
        "id": "aU4zcgPYlLpB",
        "colab": {
          "base_uri": "https://localhost:8080/"
        },
        "outputId": "7080722d-c0b6-4667-c0b1-4cd8c7d94ec3"
      },
      "execution_count": 33,
      "outputs": [
        {
          "output_type": "stream",
          "name": "stdout",
          "text": [
            "[14 14]\n"
          ]
        }
      ]
    },
    {
      "cell_type": "code",
      "source": [
        "print(a)\n",
        "print(a.T)"
      ],
      "metadata": {
        "id": "I8PYd895ljHe",
        "colab": {
          "base_uri": "https://localhost:8080/"
        },
        "outputId": "725fdbaa-ed7f-4065-d5c0-fc1ea01a9853"
      },
      "execution_count": 34,
      "outputs": [
        {
          "output_type": "stream",
          "name": "stdout",
          "text": [
            "[[1 2 3]\n",
            " [1 2 3]]\n",
            "[[1 1]\n",
            " [2 2]\n",
            " [3 3]]\n"
          ]
        }
      ]
    },
    {
      "cell_type": "code",
      "source": [],
      "metadata": {
        "id": "6UzjgF0YK6X_"
      },
      "execution_count": 35,
      "outputs": []
    },
    {
      "cell_type": "code",
      "source": [],
      "metadata": {
        "id": "ALK6v2AxZehz"
      },
      "execution_count": 35,
      "outputs": []
    }
  ]
}