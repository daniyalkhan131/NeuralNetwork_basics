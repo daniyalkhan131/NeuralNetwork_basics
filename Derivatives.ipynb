{
  "nbformat": 4,
  "nbformat_minor": 0,
  "metadata": {
    "colab": {
      "provenance": []
    },
    "kernelspec": {
      "name": "python3",
      "display_name": "Python 3"
    },
    "language_info": {
      "name": "python"
    }
  },
  "cells": [
    {
      "cell_type": "code",
      "execution_count": 15,
      "metadata": {
        "id": "Y-Jsp_rNzRz5"
      },
      "outputs": [],
      "source": [
        "from sympy import symbols,diff"
      ]
    },
    {
      "cell_type": "code",
      "source": [
        "#j,w=sympy.symbols('j,w')\n",
        "#j=w**2+w**4+2*w\n",
        "#dj_dw=sympy.diff(j,w)\n",
        "#print(dj_dw)\n",
        "#dj_dw.subs([(w,2)])"
      ],
      "metadata": {
        "id": "9oh2oSvTUsgC"
      },
      "execution_count": 16,
      "outputs": []
    },
    {
      "cell_type": "code",
      "source": [
        "\"\"\"Informal definition of derivatives\n",
        "The formal definition of derivatives can be a bit daunting with limits and values 'going to zero'. The idea is really much simpler.\n",
        "\n",
        "The derivative of a function describes how the output of a function changes when there is a small change in an input variable.\n",
        "\n",
        "Let's use the cost function  𝐽(𝑤)\n",
        "  as an example. The cost  𝐽\n",
        "  is the output and  𝑤\n",
        "  is the input variable.\n",
        "Let's give a 'small change' a name epsilon or  𝜖\n",
        " . We use these Greek letters because it is traditional in mathematics to use epsilon( 𝜖\n",
        " ) or delta ( Δ\n",
        " ) to represent a small value. You can think of it as representing 0.001 or some other small value.\n",
        "\n",
        "if 𝑤↑𝜖 causes 𝐽(𝑤)↑by 𝑘×𝜖 then∂𝐽(𝑤)∂𝑤=𝑘(1)\n",
        "This just says if you change the input to the function  𝐽(𝑤)\n",
        "  by a little bit and the output changes by  𝑘\n",
        "  times that little bit, then the derivative of  𝐽(𝑤)\n",
        "  is equal to  𝑘\n",
        " .\n",
        "\n",
        "Let's try this out. Let's look at the derivative of the function  𝐽(𝑤)=𝑤2\n",
        "  at the point  𝑤=3\n",
        "  and  𝜖=0.001\"\"\""
      ],
      "metadata": {
        "colab": {
          "base_uri": "https://localhost:8080/",
          "height": 123
        },
        "id": "Q-ZDtFEdU8FY",
        "outputId": "a5e063fc-2493-4019-927f-c0f8dea3dc34"
      },
      "execution_count": 17,
      "outputs": [
        {
          "output_type": "execute_result",
          "data": {
            "text/plain": [
              "\"Informal definition of derivatives\\nThe formal definition of derivatives can be a bit daunting with limits and values 'going to zero'. The idea is really much simpler.\\n\\nThe derivative of a function describes how the output of a function changes when there is a small change in an input variable.\\n\\nLet's use the cost function  𝐽(𝑤)\\n  as an example. The cost  𝐽\\n  is the output and  𝑤\\n  is the input variable.\\nLet's give a 'small change' a name epsilon or  𝜖\\n . We use these Greek letters because it is traditional in mathematics to use epsilon( 𝜖\\n ) or delta ( Δ\\n ) to represent a small value. You can think of it as representing 0.001 or some other small value.\\n\\nif 𝑤↑𝜖 causes 𝐽(𝑤)↑by 𝑘×𝜖 then∂𝐽(𝑤)∂𝑤=𝑘(1)\\nThis just says if you change the input to the function  𝐽(𝑤)\\n  by a little bit and the output changes by  𝑘\\n  times that little bit, then the derivative of  𝐽(𝑤)\\n  is equal to  𝑘\\n .\\n\\nLet's try this out. Let's look at the derivative of the function  𝐽(𝑤)=𝑤2\\n  at the point  𝑤=3\\n  and  𝜖=0.001\""
            ],
            "application/vnd.google.colaboratory.intrinsic+json": {
              "type": "string"
            }
          },
          "metadata": {},
          "execution_count": 17
        }
      ]
    },
    {
      "cell_type": "code",
      "source": [
        "J = (3)**2\n",
        "J_epsilon = (3 + 0.001)**2\n",
        "k = (J_epsilon - J)/0.001    # difference divided by epsilon\n",
        "print(f\"J = {J}, J_epsilon = {J_epsilon}, dJ_dw ~= k = {k:0.6f} \")"
      ],
      "metadata": {
        "colab": {
          "base_uri": "https://localhost:8080/"
        },
        "id": "XB4ouB8WVHDj",
        "outputId": "36989aea-b0fb-4172-e954-d3724ce8d04e"
      },
      "execution_count": 18,
      "outputs": [
        {
          "output_type": "stream",
          "name": "stdout",
          "text": [
            "J = 9, J_epsilon = 9.006001, dJ_dw ~= k = 6.001000 \n"
          ]
        }
      ]
    },
    {
      "cell_type": "code",
      "source": [
        "\"\"\"We have increased the input value a little bit (0.001), causing the output to change from 9 to 9.006001, an increase of 6 times the input increase. Referencing (1) above, this says that  𝑘=6\n",
        " , so  ∂𝐽(𝑤)∂𝑤≈6\n",
        " . If you are familiar with calculus, you know, written symbolically,  ∂𝐽(𝑤)∂𝑤=2𝑤\n",
        " . With  𝑤=3\n",
        "  this is 6. Our calculation above is not exactly 6 because to be exactly correct  𝜖\n",
        "  would need to be infinitesimally small or really, really small. That is why we use the symbols  ≈\n",
        "  or ~= rather than =. Let's see what happens if we make  𝜖\n",
        "  smaller.\"\"\""
      ],
      "metadata": {
        "colab": {
          "base_uri": "https://localhost:8080/",
          "height": 88
        },
        "id": "NYfHRxM6VMPO",
        "outputId": "22cd7ac3-f065-4e72-92f5-1df03c34171d"
      },
      "execution_count": 19,
      "outputs": [
        {
          "output_type": "execute_result",
          "data": {
            "text/plain": [
              "\"We have increased the input value a little bit (0.001), causing the output to change from 9 to 9.006001, an increase of 6 times the input increase. Referencing (1) above, this says that  𝑘=6\\n , so  ∂𝐽(𝑤)∂𝑤≈6\\n . If you are familiar with calculus, you know, written symbolically,  ∂𝐽(𝑤)∂𝑤=2𝑤\\n . With  𝑤=3\\n  this is 6. Our calculation above is not exactly 6 because to be exactly correct  𝜖\\n  would need to be infinitesimally small or really, really small. That is why we use the symbols  ≈\\n  or ~= rather than =. Let's see what happens if we make  𝜖\\n  smaller.\""
            ],
            "application/vnd.google.colaboratory.intrinsic+json": {
              "type": "string"
            }
          },
          "metadata": {},
          "execution_count": 19
        }
      ]
    },
    {
      "cell_type": "code",
      "source": [
        "J = (3)**2\n",
        "J_epsilon = (3 + 0.000000001)**2\n",
        "k = (J_epsilon - J)/0.000000001\n",
        "print(f\"J = {J}, J_epsilon = {J_epsilon}, dJ_dw ~= k = {k} \")"
      ],
      "metadata": {
        "colab": {
          "base_uri": "https://localhost:8080/"
        },
        "id": "H-Uf2btKVx8L",
        "outputId": "4d4350de-4515-4ab6-c9d1-fc3c48d56fc4"
      },
      "execution_count": 20,
      "outputs": [
        {
          "output_type": "stream",
          "name": "stdout",
          "text": [
            "J = 9, J_epsilon = 9.000000006, dJ_dw ~= k = 6.000000496442226 \n"
          ]
        }
      ]
    },
    {
      "cell_type": "code",
      "source": [
        "\"\"\"In backprop it is useful to know the derivative of simple functions at any input value. Put another way, we would like to know the \n",
        "'symbolic' derivative rather than the 'arithmetic' derivative. An example of a symbolic derivative is,  ∂𝐽(𝑤)∂𝑤=2𝑤\n",
        " , the derivative of  𝐽(𝑤)=𝑤2\n",
        "  above. With the symbolic derivative you can find the value of the derivative at any input value  𝑤\n",
        " .\n",
        "\n",
        "If you have taken a calculus course, you are familiar with the many differentiation rules that mathematicians have developed to solve for a derivative\n",
        " given an expression. Well, it turns out this process has been automated with symbolic differentiation programs. An example of this in python is the SymPy library.\n",
        "  Let's take a look at how to use this.\"\"\""
      ],
      "metadata": {
        "colab": {
          "base_uri": "https://localhost:8080/",
          "height": 105
        },
        "id": "6I8_6RfAWocK",
        "outputId": "d6e9a75a-9e49-4d54-c881-eb478d23a798"
      },
      "execution_count": 21,
      "outputs": [
        {
          "output_type": "execute_result",
          "data": {
            "text/plain": [
              "\"In backprop it is useful to know the derivative of simple functions at any input value. Put another way, we would like to know the \\n'symbolic' derivative rather than the 'arithmetic' derivative. An example of a symbolic derivative is,  ∂𝐽(𝑤)∂𝑤=2𝑤\\n , the derivative of  𝐽(𝑤)=𝑤2\\n  above. With the symbolic derivative you can find the value of the derivative at any input value  𝑤\\n .\\n\\nIf you have taken a calculus course, you are familiar with the many differentiation rules that mathematicians have developed to solve for a derivative\\n given an expression. Well, it turns out this process has been automated with symbolic differentiation programs. An example of this in python is the SymPy library.\\n  Let's take a look at how to use this.\""
            ],
            "application/vnd.google.colaboratory.intrinsic+json": {
              "type": "string"
            }
          },
          "metadata": {},
          "execution_count": 21
        }
      ]
    },
    {
      "cell_type": "code",
      "source": [
        "J, w = symbols('J, w') #Define the python variables and their symbolic names."
      ],
      "metadata": {
        "id": "ysrvuxdZW36S"
      },
      "execution_count": 22,
      "outputs": []
    },
    {
      "cell_type": "code",
      "source": [
        "J=w**2\n",
        "J"
      ],
      "metadata": {
        "colab": {
          "base_uri": "https://localhost:8080/",
          "height": 39
        },
        "id": "oCjdlZAMW-RO",
        "outputId": "3b084da2-045c-429f-bd0e-9096a2b23c6a"
      },
      "execution_count": 23,
      "outputs": [
        {
          "output_type": "execute_result",
          "data": {
            "text/plain": [
              "w**2"
            ],
            "text/latex": "$\\displaystyle w^{2}$"
          },
          "metadata": {},
          "execution_count": 23
        }
      ]
    },
    {
      "cell_type": "code",
      "source": [
        "dJ_dw = diff(J,w)\n",
        "dJ_dw #Use SymPy's diff to differentiate the expression for  𝐽 with respect to  𝑤\n",
        " "
      ],
      "metadata": {
        "colab": {
          "base_uri": "https://localhost:8080/",
          "height": 39
        },
        "id": "e1Pszd3RXIUh",
        "outputId": "f745b7ff-a397-41f0-97c7-1799151ee6e8"
      },
      "execution_count": 25,
      "outputs": [
        {
          "output_type": "execute_result",
          "data": {
            "text/plain": [
              "2*w"
            ],
            "text/latex": "$\\displaystyle 2 w$"
          },
          "metadata": {},
          "execution_count": 25
        }
      ]
    },
    {
      "cell_type": "code",
      "source": [
        "dJ_dw.subs([(w,2)]) "
      ],
      "metadata": {
        "colab": {
          "base_uri": "https://localhost:8080/",
          "height": 37
        },
        "id": "EnuDHv_ZXNOd",
        "outputId": "98834ea2-ba8e-4987-cda6-24d833bfedb6"
      },
      "execution_count": 26,
      "outputs": [
        {
          "output_type": "execute_result",
          "data": {
            "text/plain": [
              "4"
            ],
            "text/latex": "$\\displaystyle 4$"
          },
          "metadata": {},
          "execution_count": 26
        }
      ]
    },
    {
      "cell_type": "code",
      "source": [
        "dJ_dw.subs([(w,-3)]) "
      ],
      "metadata": {
        "colab": {
          "base_uri": "https://localhost:8080/",
          "height": 37
        },
        "id": "VFwNRSqhXXra",
        "outputId": "54245d93-b76d-441c-e219-d8d9188e5cc6"
      },
      "execution_count": 27,
      "outputs": [
        {
          "output_type": "execute_result",
          "data": {
            "text/plain": [
              "-6"
            ],
            "text/latex": "$\\displaystyle -6$"
          },
          "metadata": {},
          "execution_count": 27
        }
      ]
    },
    {
      "cell_type": "code",
      "source": [
        "w, J = symbols('w, J')"
      ],
      "metadata": {
        "id": "35Va2CV4XZ6Y"
      },
      "execution_count": 28,
      "outputs": []
    },
    {
      "cell_type": "code",
      "source": [
        "J = 2 * w\n",
        "J"
      ],
      "metadata": {
        "colab": {
          "base_uri": "https://localhost:8080/",
          "height": 39
        },
        "id": "v48LGpsDXgQW",
        "outputId": "4895302c-717c-4789-ea96-32a89a7c3e26"
      },
      "execution_count": 29,
      "outputs": [
        {
          "output_type": "execute_result",
          "data": {
            "text/plain": [
              "2*w"
            ],
            "text/latex": "$\\displaystyle 2 w$"
          },
          "metadata": {},
          "execution_count": 29
        }
      ]
    },
    {
      "cell_type": "code",
      "source": [
        "dJ_dw = diff(J,w)\n",
        "dJ_dw"
      ],
      "metadata": {
        "colab": {
          "base_uri": "https://localhost:8080/",
          "height": 37
        },
        "id": "oJ7r9ePUXobV",
        "outputId": "01bc4955-6e95-4b20-cd37-f65c352acedb"
      },
      "execution_count": 30,
      "outputs": [
        {
          "output_type": "execute_result",
          "data": {
            "text/plain": [
              "2"
            ],
            "text/latex": "$\\displaystyle 2$"
          },
          "metadata": {},
          "execution_count": 30
        }
      ]
    },
    {
      "cell_type": "code",
      "source": [
        "dJ_dw.subs([(w,-3)])    # derivative at the point w = -3"
      ],
      "metadata": {
        "colab": {
          "base_uri": "https://localhost:8080/",
          "height": 37
        },
        "id": "672NPmr4XrCa",
        "outputId": "dce87474-e202-48cd-bc5f-392143d9d0cd"
      },
      "execution_count": 31,
      "outputs": [
        {
          "output_type": "execute_result",
          "data": {
            "text/plain": [
              "2"
            ],
            "text/latex": "$\\displaystyle 2$"
          },
          "metadata": {},
          "execution_count": 31
        }
      ]
    },
    {
      "cell_type": "code",
      "source": [
        "J = 2*3\n",
        "J_epsilon = 2*(3 + 0.001)\n",
        "k = (J_epsilon - J)/0.001\n",
        "print(f\"J = {J}, J_epsilon = {J_epsilon}, dJ_dw ~= k = {k} \")"
      ],
      "metadata": {
        "colab": {
          "base_uri": "https://localhost:8080/"
        },
        "id": "5XBxmGwMXtiG",
        "outputId": "7b5d3b21-a9b5-4a74-c4c0-b2862f73ce41"
      },
      "execution_count": 32,
      "outputs": [
        {
          "output_type": "stream",
          "name": "stdout",
          "text": [
            "J = 6, J_epsilon = 6.002, dJ_dw ~= k = 1.9999999999997797 \n"
          ]
        }
      ]
    },
    {
      "cell_type": "code",
      "source": [
        "\"\"\"For the function $J=2w$, it is easy to see that any change in $\n",
        "w$ will result in 2 times that amount of change in the output $J$, regardless of the starting value of $w$. Our NumPy and arithmetic results confirm this. \"\"\""
      ],
      "metadata": {
        "colab": {
          "base_uri": "https://localhost:8080/",
          "height": 53
        },
        "id": "RZioFz5YX0SC",
        "outputId": "5caa7677-0b16-4a8b-966c-1ede19114496"
      },
      "execution_count": 33,
      "outputs": [
        {
          "output_type": "execute_result",
          "data": {
            "text/plain": [
              "'For the function $J=2w$, it is easy to see that any change in $\\nw$ will result in 2 times that amount of change in the output $J$, regardless of the starting value of $w$. Our NumPy and arithmetic results confirm this. '"
            ],
            "application/vnd.google.colaboratory.intrinsic+json": {
              "type": "string"
            }
          },
          "metadata": {},
          "execution_count": 33
        }
      ]
    },
    {
      "cell_type": "code",
      "source": [
        "J, w = symbols('J, w')"
      ],
      "metadata": {
        "id": "ZT8AsBvyX9Yw"
      },
      "execution_count": 34,
      "outputs": []
    },
    {
      "cell_type": "code",
      "source": [
        "J=w**3\n",
        "J"
      ],
      "metadata": {
        "colab": {
          "base_uri": "https://localhost:8080/",
          "height": 39
        },
        "id": "b4yy2h3UYLrp",
        "outputId": "1cf94890-d878-42c1-fcd9-b4f3db714474"
      },
      "execution_count": 35,
      "outputs": [
        {
          "output_type": "execute_result",
          "data": {
            "text/plain": [
              "w**3"
            ],
            "text/latex": "$\\displaystyle w^{3}$"
          },
          "metadata": {},
          "execution_count": 35
        }
      ]
    },
    {
      "cell_type": "code",
      "source": [
        "dJ_dw = diff(J,w)\n",
        "dJ_dw"
      ],
      "metadata": {
        "colab": {
          "base_uri": "https://localhost:8080/",
          "height": 39
        },
        "id": "DncIraMbYODD",
        "outputId": "e0f59c77-2932-4f4a-8265-435f1d5d1d03"
      },
      "execution_count": 36,
      "outputs": [
        {
          "output_type": "execute_result",
          "data": {
            "text/plain": [
              "3*w**2"
            ],
            "text/latex": "$\\displaystyle 3 w^{2}$"
          },
          "metadata": {},
          "execution_count": 36
        }
      ]
    },
    {
      "cell_type": "code",
      "source": [
        "dJ_dw.subs([(w,2)])   # derivative at the point w=2"
      ],
      "metadata": {
        "colab": {
          "base_uri": "https://localhost:8080/",
          "height": 37
        },
        "id": "-xoy32dfYQBo",
        "outputId": "a7b6d022-6e08-41a8-9bf4-fa6234d0061b"
      },
      "execution_count": 37,
      "outputs": [
        {
          "output_type": "execute_result",
          "data": {
            "text/plain": [
              "12"
            ],
            "text/latex": "$\\displaystyle 12$"
          },
          "metadata": {},
          "execution_count": 37
        }
      ]
    },
    {
      "cell_type": "code",
      "source": [
        "J = (2)**3\n",
        "J_epsilon = (2+0.001)**3\n",
        "k = (J_epsilon - J)/0.001\n",
        "print(f\"J = {J}, J_epsilon = {J_epsilon}, dJ_dw ~= k = {k} \")"
      ],
      "metadata": {
        "colab": {
          "base_uri": "https://localhost:8080/"
        },
        "id": "bcbPPyuPYWMJ",
        "outputId": "24b09fae-3f35-4d1a-be2a-e43b32e83aaf"
      },
      "execution_count": 38,
      "outputs": [
        {
          "output_type": "stream",
          "name": "stdout",
          "text": [
            "J = 8, J_epsilon = 8.012006000999998, dJ_dw ~= k = 12.006000999997823 \n"
          ]
        }
      ]
    },
    {
      "cell_type": "code",
      "source": [],
      "metadata": {
        "id": "VKcnBGs8YeJ6"
      },
      "execution_count": null,
      "outputs": []
    }
  ]
}