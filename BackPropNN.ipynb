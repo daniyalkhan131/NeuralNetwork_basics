{
  "nbformat": 4,
  "nbformat_minor": 0,
  "metadata": {
    "colab": {
      "provenance": []
    },
    "kernelspec": {
      "name": "python3",
      "display_name": "Python 3"
    },
    "language_info": {
      "name": "python"
    }
  },
  "cells": [
    {
      "cell_type": "code",
      "execution_count": null,
      "metadata": {
        "colab": {
          "base_uri": "https://localhost:8080/",
          "height": 1000
        },
        "id": "PavizzISY73N",
        "outputId": "fe175a99-5d81-4fb5-e8aa-f6ea854c1ca0"
      },
      "outputs": [
        {
          "output_type": "execute_result",
          "data": {
            "text/plain": [
              "'Working through this lab will give you insight into a key algorithm used by most machine learning frameworks. \\nGradient descent requires the derivative of the cost with respect to each parameter in the network. Neural networks can have millions or even billions of parameters. \\nThe back propagation algorithm is used to compute those derivatives. Computation graphs are used to simplify the operation.'"
            ],
            "application/vnd.google.colaboratory.intrinsic+json": {
              "type": "string"
            }
          },
          "metadata": {},
          "execution_count": 1
        }
      ],
      "source": [
        "\"\"\"Working through this lab will give you insight into a key algorithm used by most machine learning frameworks. \n",
        "Gradient descent requires the derivative of the cost with respect to each parameter in the network. Neural networks can have millions or even billions of parameters. \n",
        "The back propagation algorithm is used to compute those derivatives. Computation graphs are used to simplify the operation.\"\"\""
      ]
    },
    {
      "cell_type": "code",
      "source": [
        "from sympy import *\n",
        "import numpy as np\n",
        "import matplotlib.pyplot as plt"
      ],
      "metadata": {
        "id": "6VEC13_tZfLz"
      },
      "execution_count": 1,
      "outputs": []
    },
    {
      "cell_type": "code",
      "source": [
        "w = 3\n",
        "a = 2+3*w\n",
        "J = a**2\n",
        "print(f\"a = {a}, J = {J}\")"
      ],
      "metadata": {
        "colab": {
          "base_uri": "https://localhost:8080/"
        },
        "id": "UF247fw3MGod",
        "outputId": "c31329a9-48dd-44a9-b6fb-89f6ae75942d"
      },
      "execution_count": 2,
      "outputs": [
        {
          "output_type": "stream",
          "name": "stdout",
          "text": [
            "a = 11, J = 121\n"
          ]
        }
      ]
    },
    {
      "cell_type": "code",
      "source": [
        "a_epsilon = a + 0.001       # a epsilon\n",
        "J_epsilon = a_epsilon**2    # J_epsilon\n",
        "k = (J_epsilon - J)/0.001   # difference divided by epsilon\n",
        "print(f\"J = {J}, J_epsilon = {J_epsilon}, dJ_da ~= k = {k} \")"
      ],
      "metadata": {
        "colab": {
          "base_uri": "https://localhost:8080/"
        },
        "id": "iQNRMF1-ML4C",
        "outputId": "f4a72630-967c-4b63-fb7f-6e2249396de9"
      },
      "execution_count": 3,
      "outputs": [
        {
          "output_type": "stream",
          "name": "stdout",
          "text": [
            "J = 121, J_epsilon = 121.02200099999999, dJ_da ~= k = 22.000999999988835 \n"
          ]
        }
      ]
    },
    {
      "cell_type": "code",
      "source": [
        "sw,sJ,sa = symbols('w,J,a')\n",
        "sJ = sa**2\n",
        "sJ"
      ],
      "metadata": {
        "colab": {
          "base_uri": "https://localhost:8080/",
          "height": 39
        },
        "id": "ZbgfR76eMO4a",
        "outputId": "4de54d8b-0542-4513-f125-9ff8217d620e"
      },
      "execution_count": 4,
      "outputs": [
        {
          "output_type": "execute_result",
          "data": {
            "text/plain": [
              "a**2"
            ],
            "text/latex": "$\\displaystyle a^{2}$"
          },
          "metadata": {},
          "execution_count": 4
        }
      ]
    },
    {
      "cell_type": "code",
      "source": [
        "sJ.subs([(sa,a)])"
      ],
      "metadata": {
        "colab": {
          "base_uri": "https://localhost:8080/",
          "height": 37
        },
        "id": "OUeqI3qvMRy_",
        "outputId": "7827bdcf-9f34-4fd9-c924-d16754507887"
      },
      "execution_count": 5,
      "outputs": [
        {
          "output_type": "execute_result",
          "data": {
            "text/plain": [
              "121"
            ],
            "text/latex": "$\\displaystyle 121$"
          },
          "metadata": {},
          "execution_count": 5
        }
      ]
    },
    {
      "cell_type": "code",
      "source": [
        "dJ_da = diff(sJ, sa)\n",
        "dJ_da"
      ],
      "metadata": {
        "colab": {
          "base_uri": "https://localhost:8080/",
          "height": 39
        },
        "id": "UfyrbUHJMTRY",
        "outputId": "6e67b7be-b580-4d1e-e8e5-4123c3ede452"
      },
      "execution_count": 6,
      "outputs": [
        {
          "output_type": "execute_result",
          "data": {
            "text/plain": [
              "2*a"
            ],
            "text/latex": "$\\displaystyle 2 a$"
          },
          "metadata": {},
          "execution_count": 6
        }
      ]
    },
    {
      "cell_type": "code",
      "source": [
        "w_epsilon = w + 0.001       # a  plus a small value, epsilon\n",
        "a_epsilon = 2 + 3*w_epsilon\n",
        "k = (a_epsilon - a)/0.001   # difference divided by epsilon\n",
        "print(f\"a = {a}, a_epsilon = {a_epsilon}, da_dw ~= k = {k} \")"
      ],
      "metadata": {
        "colab": {
          "base_uri": "https://localhost:8080/"
        },
        "id": "H9WHAFkMMUvn",
        "outputId": "ba3806b7-a94c-4486-c2f2-401a1efd9e75"
      },
      "execution_count": 7,
      "outputs": [
        {
          "output_type": "stream",
          "name": "stdout",
          "text": [
            "a = 11, a_epsilon = 11.003, da_dw ~= k = 3.0000000000001137 \n"
          ]
        }
      ]
    },
    {
      "cell_type": "code",
      "source": [
        "sa = 2 + 3*sw\n",
        "sa"
      ],
      "metadata": {
        "colab": {
          "base_uri": "https://localhost:8080/",
          "height": 39
        },
        "id": "nAtGOdD_MXUz",
        "outputId": "9aa480af-1942-4e93-a49c-fe99d7d1f234"
      },
      "execution_count": 8,
      "outputs": [
        {
          "output_type": "execute_result",
          "data": {
            "text/plain": [
              "3*w + 2"
            ],
            "text/latex": "$\\displaystyle 3 w + 2$"
          },
          "metadata": {},
          "execution_count": 8
        }
      ]
    },
    {
      "cell_type": "code",
      "source": [
        "da_dw = diff(sa,sw)\n",
        "da_dw"
      ],
      "metadata": {
        "colab": {
          "base_uri": "https://localhost:8080/",
          "height": 37
        },
        "id": "k6JvaNeoMZVM",
        "outputId": "37cdf58e-135c-44fa-ee15-5d8beecfb214"
      },
      "execution_count": 9,
      "outputs": [
        {
          "output_type": "execute_result",
          "data": {
            "text/plain": [
              "3"
            ],
            "text/latex": "$\\displaystyle 3$"
          },
          "metadata": {},
          "execution_count": 9
        }
      ]
    },
    {
      "cell_type": "code",
      "source": [
        "dJ_dw = da_dw * dJ_da\n",
        "dJ_dw"
      ],
      "metadata": {
        "colab": {
          "base_uri": "https://localhost:8080/",
          "height": 39
        },
        "id": "bcSUUUq8MatN",
        "outputId": "4baefd58-9bf8-4e43-a010-e7d365e5b2bb"
      },
      "execution_count": 10,
      "outputs": [
        {
          "output_type": "execute_result",
          "data": {
            "text/plain": [
              "6*a"
            ],
            "text/latex": "$\\displaystyle 6 a$"
          },
          "metadata": {},
          "execution_count": 10
        }
      ]
    },
    {
      "cell_type": "code",
      "source": [
        "w_epsilon = w + 0.001\n",
        "a_epsilon = 2 + 3*w_epsilon\n",
        "J_epsilon = a_epsilon**2\n",
        "k = (J_epsilon - J)/0.001   # difference divided by epsilon\n",
        "print(f\"J = {J}, J_epsilon = {J_epsilon}, dJ_dw ~= k = {k} \")"
      ],
      "metadata": {
        "colab": {
          "base_uri": "https://localhost:8080/"
        },
        "id": "djFaE29pMc3U",
        "outputId": "89682323-026b-4fd2-8379-a51680b2fb42"
      },
      "execution_count": 11,
      "outputs": [
        {
          "output_type": "stream",
          "name": "stdout",
          "text": [
            "J = 121, J_epsilon = 121.06600900000001, dJ_dw ~= k = 66.0090000000082 \n"
          ]
        }
      ]
    },
    {
      "cell_type": "code",
      "source": [
        "# Inputs and parameters\n",
        "x = 2\n",
        "w = -2\n",
        "b = 8\n",
        "y = 1\n",
        "# calculate per step values   \n",
        "c = w * x\n",
        "a = c + b\n",
        "d = a - y\n",
        "J = d**2/2\n",
        "print(f\"J={J}, d={d}, a={a}, c={c}\")"
      ],
      "metadata": {
        "colab": {
          "base_uri": "https://localhost:8080/"
        },
        "id": "Co6t1HAPMewh",
        "outputId": "2dd82455-09ca-44d4-8312-a0d0efadad42"
      },
      "execution_count": 12,
      "outputs": [
        {
          "output_type": "stream",
          "name": "stdout",
          "text": [
            "J=4.5, d=3, a=4, c=-4\n"
          ]
        }
      ]
    },
    {
      "cell_type": "code",
      "source": [
        "d_epsilon = d + 0.001\n",
        "J_epsilon = d_epsilon**2/2\n",
        "k = (J_epsilon - J)/0.001   # difference divided by epsilon\n",
        "print(f\"J = {J}, J_epsilon = {J_epsilon}, dJ_dd ~= k = {k} \")"
      ],
      "metadata": {
        "colab": {
          "base_uri": "https://localhost:8080/"
        },
        "id": "AKI5c55aMh8_",
        "outputId": "0baa7424-0c42-447a-f263-41b6aa1999ae"
      },
      "execution_count": 13,
      "outputs": [
        {
          "output_type": "stream",
          "name": "stdout",
          "text": [
            "J = 4.5, J_epsilon = 4.5030005, dJ_dd ~= k = 3.0004999999997395 \n"
          ]
        }
      ]
    },
    {
      "cell_type": "code",
      "source": [
        "sx,sw,sb,sy,sJ = symbols('x,w,b,y,J')\n",
        "sa, sc, sd = symbols('a,c,d')\n",
        "sJ = sd**2/2\n",
        "sJ"
      ],
      "metadata": {
        "colab": {
          "base_uri": "https://localhost:8080/",
          "height": 54
        },
        "id": "JNtlvcREMjvG",
        "outputId": "37a400e1-69f7-4ad5-94bb-cdb3d949a3e5"
      },
      "execution_count": 14,
      "outputs": [
        {
          "output_type": "execute_result",
          "data": {
            "text/plain": [
              "d**2/2"
            ],
            "text/latex": "$\\displaystyle \\frac{d^{2}}{2}$"
          },
          "metadata": {},
          "execution_count": 14
        }
      ]
    },
    {
      "cell_type": "code",
      "source": [
        "sJ.subs([(sd,d)])"
      ],
      "metadata": {
        "colab": {
          "base_uri": "https://localhost:8080/",
          "height": 51
        },
        "id": "prfvF8qzMlmj",
        "outputId": "b0e709d3-e9e9-4ebc-9629-76eccbacade2"
      },
      "execution_count": 15,
      "outputs": [
        {
          "output_type": "execute_result",
          "data": {
            "text/plain": [
              "9/2"
            ],
            "text/latex": "$\\displaystyle \\frac{9}{2}$"
          },
          "metadata": {},
          "execution_count": 15
        }
      ]
    },
    {
      "cell_type": "code",
      "source": [
        "dJ_dd = diff(sJ, sd)\n",
        "dJ_dd"
      ],
      "metadata": {
        "colab": {
          "base_uri": "https://localhost:8080/",
          "height": 39
        },
        "id": "Wt15BoksMnHP",
        "outputId": "176c8c92-54c6-4884-a38c-bd7e3a9cdc7f"
      },
      "execution_count": 16,
      "outputs": [
        {
          "output_type": "execute_result",
          "data": {
            "text/plain": [
              "d"
            ],
            "text/latex": "$\\displaystyle d$"
          },
          "metadata": {},
          "execution_count": 16
        }
      ]
    },
    {
      "cell_type": "code",
      "source": [
        "a_epsilon = a + 0.001         # a  plus a small value\n",
        "d_epsilon = a_epsilon - y\n",
        "k = (d_epsilon - d)/0.001   # difference divided by epsilon\n",
        "print(f\"d = {d}, d_epsilon = {d_epsilon}, dd_da ~= k = {k} \")"
      ],
      "metadata": {
        "colab": {
          "base_uri": "https://localhost:8080/"
        },
        "id": "2quonPFeMoz5",
        "outputId": "21bb6e1f-e8d8-485b-b1f9-4bcc7033596a"
      },
      "execution_count": 17,
      "outputs": [
        {
          "output_type": "stream",
          "name": "stdout",
          "text": [
            "d = 3, d_epsilon = 3.0010000000000003, dd_da ~= k = 1.000000000000334 \n"
          ]
        }
      ]
    },
    {
      "cell_type": "code",
      "source": [
        "sd = sa - sy\n",
        "sd"
      ],
      "metadata": {
        "colab": {
          "base_uri": "https://localhost:8080/",
          "height": 39
        },
        "id": "7u0kA_wWMrDJ",
        "outputId": "fe1b428f-6bed-425c-e75a-c8526fe48930"
      },
      "execution_count": 18,
      "outputs": [
        {
          "output_type": "execute_result",
          "data": {
            "text/plain": [
              "a - y"
            ],
            "text/latex": "$\\displaystyle a - y$"
          },
          "metadata": {},
          "execution_count": 18
        }
      ]
    },
    {
      "cell_type": "code",
      "source": [
        "dd_da = diff(sd,sa)\n",
        "dd_da"
      ],
      "metadata": {
        "colab": {
          "base_uri": "https://localhost:8080/",
          "height": 37
        },
        "id": "XoUK36a5Msxz",
        "outputId": "09f9ae2e-7c5d-423a-84e3-aa8032e92e14"
      },
      "execution_count": 19,
      "outputs": [
        {
          "output_type": "execute_result",
          "data": {
            "text/plain": [
              "1"
            ],
            "text/latex": "$\\displaystyle 1$"
          },
          "metadata": {},
          "execution_count": 19
        }
      ]
    },
    {
      "cell_type": "code",
      "source": [
        "dJ_da = dd_da * dJ_dd\n",
        "dJ_da"
      ],
      "metadata": {
        "colab": {
          "base_uri": "https://localhost:8080/",
          "height": 39
        },
        "id": "CdIbcgquMuQL",
        "outputId": "747c62d0-10fe-48a5-9305-6ab32ec2295c"
      },
      "execution_count": 20,
      "outputs": [
        {
          "output_type": "execute_result",
          "data": {
            "text/plain": [
              "d"
            ],
            "text/latex": "$\\displaystyle d$"
          },
          "metadata": {},
          "execution_count": 20
        }
      ]
    },
    {
      "cell_type": "code",
      "source": [
        "a_epsilon = a + 0.001\n",
        "d_epsilon = a_epsilon - y\n",
        "J_epsilon = d_epsilon**2/2\n",
        "k = (J_epsilon - J)/0.001   \n",
        "print(f\"J = {J}, J_epsilon = {J_epsilon}, dJ_da ~= k = {k} \")"
      ],
      "metadata": {
        "colab": {
          "base_uri": "https://localhost:8080/"
        },
        "id": "-4C8R9uaMwRw",
        "outputId": "91f28cb1-9aab-41b3-fb93-e2eeab42c0a5"
      },
      "execution_count": 21,
      "outputs": [
        {
          "output_type": "stream",
          "name": "stdout",
          "text": [
            "J = 4.5, J_epsilon = 4.503000500000001, dJ_da ~= k = 3.0005000000006277 \n"
          ]
        }
      ]
    },
    {
      "cell_type": "code",
      "source": [
        "# calculate the local derivatives da_dc, da_db\n",
        "sa = sc + sb\n",
        "sa"
      ],
      "metadata": {
        "colab": {
          "base_uri": "https://localhost:8080/",
          "height": 39
        },
        "id": "UHVAHTpMMxv1",
        "outputId": "d7337788-8c2f-43d6-bc8c-7adce674cf82"
      },
      "execution_count": 22,
      "outputs": [
        {
          "output_type": "execute_result",
          "data": {
            "text/plain": [
              "b + c"
            ],
            "text/latex": "$\\displaystyle b + c$"
          },
          "metadata": {},
          "execution_count": 22
        }
      ]
    },
    {
      "cell_type": "code",
      "source": [
        "da_dc = diff(sa,sc)\n",
        "da_db = diff(sa,sb)\n",
        "print(da_dc, da_db)"
      ],
      "metadata": {
        "colab": {
          "base_uri": "https://localhost:8080/"
        },
        "id": "xJ8YWC7nMzzo",
        "outputId": "85f19faf-9a11-4109-dad7-6edf46ccdabc"
      },
      "execution_count": 23,
      "outputs": [
        {
          "output_type": "stream",
          "name": "stdout",
          "text": [
            "1 1\n"
          ]
        }
      ]
    },
    {
      "cell_type": "code",
      "source": [
        "dJ_dc = da_dc * dJ_da\n",
        "dJ_db = da_db * dJ_da\n",
        "print(f\"dJ_dc = {dJ_dc},  dJ_db = {dJ_db}\")"
      ],
      "metadata": {
        "colab": {
          "base_uri": "https://localhost:8080/"
        },
        "id": "3JJbWOAUNRN0",
        "outputId": "6ea3239e-c189-4bf8-c203-e26a8e94a5a4"
      },
      "execution_count": 31,
      "outputs": [
        {
          "output_type": "stream",
          "name": "stdout",
          "text": [
            "dJ_dc = d,  dJ_db = d\n"
          ]
        }
      ]
    },
    {
      "cell_type": "code",
      "source": [
        "# calculate the local derivative\n",
        "sc = sw * sx\n",
        "sc"
      ],
      "metadata": {
        "colab": {
          "base_uri": "https://localhost:8080/",
          "height": 39
        },
        "id": "No9k-F-eM1Md",
        "outputId": "b2279efd-b97d-4a5b-cf06-b5ed1d10937a"
      },
      "execution_count": 32,
      "outputs": [
        {
          "output_type": "execute_result",
          "data": {
            "text/plain": [
              "w*x"
            ],
            "text/latex": "$\\displaystyle w x$"
          },
          "metadata": {},
          "execution_count": 32
        }
      ]
    },
    {
      "cell_type": "code",
      "source": [
        "dc_dw = diff(sc,sw)\n",
        "dc_dw"
      ],
      "metadata": {
        "colab": {
          "base_uri": "https://localhost:8080/",
          "height": 39
        },
        "id": "AKUVT4HkM3Jp",
        "outputId": "474079d3-8496-4de9-87d8-05c36595b90b"
      },
      "execution_count": 33,
      "outputs": [
        {
          "output_type": "execute_result",
          "data": {
            "text/plain": [
              "x"
            ],
            "text/latex": "$\\displaystyle x$"
          },
          "metadata": {},
          "execution_count": 33
        }
      ]
    },
    {
      "cell_type": "code",
      "source": [
        "dJ_dw = dc_dw * dJ_dc\n",
        "dJ_dw"
      ],
      "metadata": {
        "colab": {
          "base_uri": "https://localhost:8080/",
          "height": 39
        },
        "id": "YFMmubrIM5BU",
        "outputId": "190e1d94-2be1-45f9-e0cf-583dcbef0c4f"
      },
      "execution_count": 34,
      "outputs": [
        {
          "output_type": "execute_result",
          "data": {
            "text/plain": [
              "d*x"
            ],
            "text/latex": "$\\displaystyle d x$"
          },
          "metadata": {},
          "execution_count": 34
        }
      ]
    },
    {
      "cell_type": "code",
      "source": [
        "print(f\"dJ_dw = {dJ_dw.subs([(sd,d),(sx,x)])}\")"
      ],
      "metadata": {
        "colab": {
          "base_uri": "https://localhost:8080/"
        },
        "id": "773wV3N-M7By",
        "outputId": "83fe9156-1649-47b1-f366-e378ad1fcc21"
      },
      "execution_count": 35,
      "outputs": [
        {
          "output_type": "stream",
          "name": "stdout",
          "text": [
            "dJ_dw = 2*d\n"
          ]
        }
      ]
    },
    {
      "cell_type": "code",
      "source": [
        "J_epsilon = ((w+0.001)*x+b - y)**2/2\n",
        "k = (J_epsilon - J)/0.001  \n",
        "print(f\"J = {J}, J_epsilon = {J_epsilon}, dJ_dw ~= k = {k} \")"
      ],
      "metadata": {
        "colab": {
          "base_uri": "https://localhost:8080/"
        },
        "id": "UlGyvTSgNHiB",
        "outputId": "861fc28a-758e-4627-fd4e-11afdd9f363e"
      },
      "execution_count": 36,
      "outputs": [
        {
          "output_type": "stream",
          "name": "stdout",
          "text": [
            "J = 4.5, J_epsilon = 4.506002, dJ_dw ~= k = 6.001999999999619 \n"
          ]
        }
      ]
    },
    {
      "cell_type": "code",
      "source": [],
      "metadata": {
        "id": "ZU0OMGQNNIdb"
      },
      "execution_count": null,
      "outputs": []
    }
  ]
}